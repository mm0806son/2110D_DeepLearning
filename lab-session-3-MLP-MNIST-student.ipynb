{
  "cells": [
    {
      "cell_type": "markdown",
      "metadata": {
        "colab_type": "text",
        "id": "view-in-github"
      },
      "source": [
        "<a href=\"https://colab.research.google.com/github/mm0806son/2110D_DeepLearning/blob/main/lab-session-3-MLP-MNIST-student.ipynb\" target=\"_parent\"><img src=\"https://colab.research.google.com/assets/colab-badge.svg\" alt=\"Open In Colab\"/></a>"
      ]
    },
    {
      "cell_type": "markdown",
      "metadata": {
        "id": "mE2F5Cj5X-cq"
      },
      "source": [
        "# Lab session 3 | Multi-Layer Perceptron (MLP) with pytorch\n",
        "\n",
        "pierre-henri.conze@imt-atlantique.fr \\\\\n",
        "francois.rousseau@imt-atlantique.fr \\\\\n",
        "simon.benaichouche@imt-atlantique.fr \\\\\n",
        "aurelien.colin@imt-atlantique.fr\n",
        "\n",
        "---\n",
        "\n"
      ]
    },
    {
      "cell_type": "markdown",
      "metadata": {
        "id": "aZNAqdzCX-cs"
      },
      "source": [
        "## Objective of this lab session: use a multiple layer perceptron to process the MNIST dataset.\n",
        "\n",
        "\n",
        "**MNIST** is a computer vision dataset. It consists of images of handwritten digits. It also includes labels for each image, telling us which digit it is. In this lab session, we're going to train **Multi-Layer Perceptron** (MLP) models to look at images and predict to which digit they belong."
      ]
    },
    {
      "cell_type": "markdown",
      "metadata": {
        "id": "85qr0BEYX-cu"
      },
      "source": [
        "### 1- Download MNIST dataset\n",
        "\n",
        "First, start with these lines of code which will automatically download the MNIST dataset."
      ]
    },
    {
      "cell_type": "code",
      "execution_count": 1,
      "metadata": {
        "colab": {
          "base_uri": "https://localhost:8080/",
          "height": 515,
          "referenced_widgets": [
            "13e747892ab345c89140ae9d823f8adc",
            "d75ff9c593944f64a1e800cc3887aa0d",
            "1a10755772b64c73828f7d2a3c5733b4",
            "82e786906ae4497090377903d4534aee",
            "617a8295f9a8400db7c7956540bcc103",
            "8f3c12541d564b5d9b7ffd986b67df20",
            "e92fbab7bbbf426b8695d575d423ed68",
            "29487a66ae1c4c2bb3de015c13832766",
            "7591492ba70c474387f6fd9f716bdc14",
            "953194b87ef3475da8fdf80ed1e9e5c9",
            "901ea6f357f24f859979ac49e05f7c24",
            "990a9a18b6da405fa25f8c79324a5fe6",
            "2a3b552f2b7a414d939e741aeb835508",
            "0ab83bfc910a4e4b8977b4b09c345a3d",
            "71194dca78f944ada3c3f833da4f0184",
            "c45d6e818f9e45c1b1b1027d87761651",
            "2c17fd4faa8f499dbc0f3ceec51160f5",
            "42b44078e4164a71a02956187332772e",
            "d2ee60932e58481abebdcd942cdb2f4a",
            "661bc6ad08d04017af7f3d1d81a1e03c",
            "dcde2085c1144b8ea12df4c9b0622f01",
            "0935dfe4dcb6451abd8904425312701a",
            "bd73c013aa984eaf87b7c1553708bef9",
            "f193853e59ec412481b99b11e0bf2c8b",
            "3646c6e31a1b4d1983c71dfc1ede238d",
            "36cd6b7598d0441f847afd78390bc9f5",
            "2b92f36a20b44548aea702770b852d7d",
            "b9433d3e182447bd8a73379dd56a2aee",
            "f7aa837786ff458dbf1ecc12570a399a",
            "037153888ec24e34bd0a9dea0b44ee5b",
            "c36121f1425a40e49f129728229bf669",
            "37a03ac14c6545169da7aefa0004a9f7",
            "60b18057ca9f4ab8b4e5ff7d5fe9fa41",
            "a1a63195b42449b5b03f88c63b69ab92",
            "f13a334d3e3543b897bb4973b346dced",
            "b66e015837e645448abdddef704182ba",
            "16fd391f2a194a74b7fc886829820589",
            "2aae17a4d3fc4e9cb06d2996815b7627",
            "1d8bf29123be4592a1f55b9cb2583ffb",
            "6a0674d20fb049eea1d166df531b91ed",
            "a676235b27dd466fb7d94059c6043e44",
            "01a4c73df6b84c16bd391f32af1ef6e7",
            "9463d40046514b638142ea290de8bc6d",
            "d6c3bf32529b41d2b3dbdccbb49d4cf4"
          ]
        },
        "id": "W6fsgjPOX-cv",
        "outputId": "ae45b335-2b5b-4af4-fee1-95e2ae430906"
      },
      "outputs": [
        {
          "name": "stdout",
          "output_type": "stream",
          "text": [
            "number of training data: 60000 \n",
            "number of test data: 10000\n"
          ]
        },
        {
          "name": "stderr",
          "output_type": "stream",
          "text": [
            "D:\\anaconda3\\lib\\site-packages\\torchvision\\datasets\\mnist.py:498: UserWarning: The given NumPy array is not writeable, and PyTorch does not support non-writeable tensors. This means you can write to the underlying (supposedly non-writeable) NumPy array using the tensor. You may want to copy the array to protect its data or make it writeable before converting it to a tensor. This type of warning will be suppressed for the rest of this program. (Triggered internally at  ..\\torch\\csrc\\utils\\tensor_numpy.cpp:180.)\n",
            "  return torch.from_numpy(parsed.astype(m[2], copy=False)).view(*s)\n"
          ]
        }
      ],
      "source": [
        "from torchvision import datasets\n",
        "import torchvision.transforms as transforms\n",
        "\n",
        "transform = transforms.ToTensor() # convert data to torch.FloatTensor\n",
        "\n",
        "train_data = datasets.MNIST(root = 'data', train = True, download = True, transform = transform)\n",
        "test_data = datasets.MNIST(root = 'data', train = False, download = True, transform = transform)\n",
        "\n",
        "num_train, num_test = len(train_data), len(test_data)\n",
        "print('number of training data:', num_train, '\\n'+'number of test data:', num_test)"
      ]
    },
    {
      "cell_type": "markdown",
      "metadata": {
        "id": "Wl7qqo-045pO"
      },
      "source": [
        "The MNIST dataset is split into two parts: 60,000 samples for training, 10,000 samples for test. Both training set test sets contain images and their corresponding labels."
      ]
    },
    {
      "cell_type": "markdown",
      "metadata": {
        "id": "FQKjqImJ4mKx"
      },
      "source": [
        "The following cell creates a **data loader** (DataLoader, [documentation](https://pytorch.org/docs/stable/data.html)) for the test set."
      ]
    },
    {
      "cell_type": "code",
      "execution_count": 2,
      "metadata": {
        "id": "Ho-I57ync1Ya"
      },
      "outputs": [],
      "source": [
        "import torch\n",
        "\n",
        "batch_size = 20 # how many samples per batch to load\n",
        "test_loader = torch.utils.data.DataLoader(test_data, batch_size = batch_size)"
      ]
    },
    {
      "cell_type": "markdown",
      "metadata": {
        "id": "18G47IQQX-c3"
      },
      "source": [
        "### 2- Data visualization\n",
        "\n",
        "The first thing to do in a classification task is to take a **look at the data**, make sure that it has been correctly loaded in, then make any initial observations about patterns in that data. The next cell allows to visualize images from the test set with corresponding ground truth labels."
      ]
    },
    {
      "cell_type": "code",
      "execution_count": 3,
      "metadata": {
        "colab": {
          "base_uri": "https://localhost:8080/",
          "height": 225
        },
        "id": "arAFBf_q0K3p",
        "outputId": "f3f7787b-2b8d-44db-a4be-31540e3b5959"
      },
      "outputs": [
        {
          "data": {
            "image/png": "[encoded data removed]",
            "text/plain": [
              "<Figure size 1800x288 with 20 Axes>"
            ]
          },
          "metadata": {},
          "output_type": "display_data"
        }
      ],
      "source": [
        "import matplotlib.pyplot as plt\n",
        "import numpy as np\n",
        "%matplotlib inline\n",
        "\n",
        "data_iter = iter(test_loader) \n",
        "images, labels = data_iter.next() # obtain one batch from the test set\n",
        "images = images.numpy()\n",
        "# plot images in the batch, along with the corresponding labels\n",
        "fig = plt.figure(figsize=(25, 4))\n",
        "for idx in np.arange(20):\n",
        "    ax = fig.add_subplot(2, 10, idx+1, xticks=[], yticks=[])\n",
        "    ax.imshow(np.squeeze(images[idx]), cmap='gray') # .npsqueeze removes single-dimensional entries from the shape of an array\n",
        "    ax.set_title(str(labels[idx].item())) # .item() gets the value contained in a Tensor"
      ]
    },
    {
      "cell_type": "markdown",
      "metadata": {
        "id": "BO-rPwr05H2L"
      },
      "source": [
        "Every image in MNIST is of a handwritten digit between zero and nine. Let us view one of these images with more details:"
      ]
    },
    {
      "cell_type": "code",
      "execution_count": 4,
      "metadata": {
        "colab": {
          "base_uri": "https://localhost:8080/",
          "height": 592
        },
        "id": "dZEH94l05Ids",
        "outputId": "1a685402-1c1e-495c-efdf-3c2d5501b141"
      },
      "outputs": [
        {
          "data": {
            "image/png": "[encoded data removed]",
            "text/plain": [
              "<Figure size 720x720 with 1 Axes>"
            ]
          },
          "metadata": {
            "needs_background": "light"
          },
          "output_type": "display_data"
        }
      ],
      "source": [
        "img = np.squeeze(images[1])\n",
        "fig = plt.figure(figsize = (10,10)) \n",
        "ax = fig.add_subplot(111)\n",
        "ax.imshow(img, cmap='gray')\n",
        "width, height = img.shape\n",
        "thresh = img.max()/2.5\n",
        "for x in range(width):\n",
        "    for y in range(height):\n",
        "        val = round(img[x][y],1) if img[x][y] !=0 else 0\n",
        "        ax.annotate(str(val), xy=(y,x), horizontalalignment='center', verticalalignment='center', color='white' if img[x][y]<thresh else 'black')"
      ]
    },
    {
      "cell_type": "markdown",
      "metadata": {
        "id": "HA1W3RtT5hnv"
      },
      "source": [
        "Each image is 28 pixels by 28 pixels. Image intensities are normalized between 0 and 1."
      ]
    },
    {
      "cell_type": "markdown",
      "metadata": {
        "id": "oXXkFECRnxFi"
      },
      "source": [
        "### 3- Is my network generalizing well?\n",
        "\n",
        "It's essential in machine (or deep) learning to consider validation/test sets which will not be used for training such that we can be sure that what we have learned through the network actually generalizes!\n",
        "\n",
        "In practice, we will extract from the training set a subset (20% of training set) for **validation** purposes."
      ]
    },
    {
      "cell_type": "code",
      "execution_count": 5,
      "metadata": {
        "id": "pAZK2_NuDbK3"
      },
      "outputs": [],
      "source": [
        "from torch.utils.data.sampler import SubsetRandomSampler\n",
        "\n",
        "valid_size = 0.2 # percentage of training set to use as validation\n",
        "\n",
        "# obtain training indices that will be used for validation\n",
        "indices = list(range(num_train))\n",
        "np.random.shuffle(indices)\n",
        "split = int(np.floor(valid_size * num_train))\n",
        "train_index, valid_index = indices[split:], indices[:split]\n",
        "\n",
        "# define samplers for obtaining training and validation batches\n",
        "train_sampler = SubsetRandomSampler(train_index)\n",
        "valid_sampler = SubsetRandomSampler(valid_index)\n",
        "\n",
        "# prepare data loaders\n",
        "train_loader = torch.utils.data.DataLoader(train_data, batch_size = batch_size, sampler = train_sampler)\n",
        "valid_loader = torch.utils.data.DataLoader(train_data, batch_size = batch_size, sampler = valid_sampler)"
      ]
    },
    {
      "cell_type": "markdown",
      "metadata": {
        "id": "P9vqCd8jpJnE"
      },
      "source": [
        "### 4- Simple MLP architecture\n",
        "\n",
        "Let us define a simple **network architecture**. The network will take as inputs 784-dimensional tensors of pixel values from each image (28x28=784). It will produce as output a tensor of length 10 (i.e. the number of classes) that indicates the class scores for each input image. "
      ]
    },
    {
      "cell_type": "markdown",
      "metadata": {
        "id": "897aqt3UyfHz"
      },
      "source": [
        "In this first network architecture (*Net1*), we will employ a single hidden layer with 10 neurons."
      ]
    },
    {
      "cell_type": "code",
      "execution_count": 6,
      "metadata": {
        "id": "4lLiWMnC5jBy"
      },
      "outputs": [],
      "source": [
        "import torch.nn as nn\n",
        "import torch.nn.functional as F\n",
        "\n",
        "class Net1(nn.Module):\n",
        "\n",
        "    def __init__(self):\n",
        "        super(Net1,self).__init__()\n",
        "        self.fc1 = nn.Linear(28*28, 10) # linear layer (784 -> 10)\n",
        "        \n",
        "    def forward(self,x):\n",
        "        x = x.view(-1,28*28) # flatten input image\n",
        "        x = self.fc1(x)\n",
        "        return x"
      ]
    },
    {
      "cell_type": "markdown",
      "metadata": {
        "id": "GnJCZtJ9x-wA"
      },
      "source": [
        "For a given image, we aim at computing the probabilities for each digit through a softmax regression model $ y = softmax(Wx+b)$ where *softmax* is the normalized exponential function."
      ]
    },
    {
      "cell_type": "code",
      "execution_count": 7,
      "metadata": {
        "colab": {
          "base_uri": "https://localhost:8080/"
        },
        "id": "OFwVrc_XT3cs",
        "outputId": "94eecbd2-ade9-4601-c145-c435de7af695"
      },
      "outputs": [
        {
          "name": "stdout",
          "output_type": "stream",
          "text": [
            "Using device cpu\n"
          ]
        }
      ],
      "source": [
        "device = torch.device('cuda' if torch.cuda.is_available() else 'cpu')\n",
        "print('Using device '+str(device))"
      ]
    },
    {
      "cell_type": "markdown",
      "metadata": {
        "id": "bo_8WGGk5F31"
      },
      "source": [
        "Let us **initialize** the neural network."
      ]
    },
    {
      "cell_type": "code",
      "execution_count": 8,
      "metadata": {
        "colab": {
          "base_uri": "https://localhost:8080/"
        },
        "id": "JbdKfY3h-wAy",
        "outputId": "c48fb8aa-f66c-476d-ba22-9c2578619a63"
      },
      "outputs": [
        {
          "data": {
            "text/plain": [
              "Net1(\n",
              "  (fc1): Linear(in_features=784, out_features=10, bias=True)\n",
              ")"
            ]
          },
          "execution_count": 8,
          "metadata": {},
          "output_type": "execute_result"
        }
      ],
      "source": [
        "model_1 = Net1() # initialize the neural network\n",
        "model_1.to(device=device)"
      ]
    },
    {
      "cell_type": "markdown",
      "metadata": {
        "id": "eq3-Q0ZtyL0P"
      },
      "source": [
        "### 5- Loss function and optimizer\n",
        "\n",
        "Now, We have to specify the **loss function**. We try to minimize that error: the smaller the error margin, the better our model. In this lab session, the cross-entropy is used as loss function:\n",
        "\n",
        "$$H_{y}(z) = - \\sum_i y_i \\log(z_i)$$\n",
        "\n",
        "where $z$ is our predicted probability distribution, and $y$ is the true distribution. If you look at the [documentation](https://pytorch.org/docs/stable/generated/torch.nn.CrossEntropyLoss.html), you can see that PyTorch’s cross entropy function applies a *softmax* funtion to the output layer and then calculates the log loss."
      ]
    },
    {
      "cell_type": "code",
      "execution_count": 9,
      "metadata": {
        "id": "BeZr3uLL58Qw"
      },
      "outputs": [],
      "source": [
        "criterion = nn.CrossEntropyLoss() # specify loss function (categorical cross-entropy)"
      ]
    },
    {
      "cell_type": "markdown",
      "metadata": {
        "id": "iP16MCJD03wD"
      },
      "source": [
        "We also need to specify the **optimization** algorithm that will be used to minimized the loss function. Here, we will use a standard stochastic gradient descent (SGD). Many other optimization strategies can be emloyed ([documentation](https://pytorch.org/docs/stable/optim.html))."
      ]
    },
    {
      "cell_type": "code",
      "execution_count": 10,
      "metadata": {
        "id": "z_IkVZB-01tJ"
      },
      "outputs": [],
      "source": [
        "optimizer = torch.optim.SGD(model_1.parameters(),lr = 0.01) # specify optimizer (stochastic gradient descent) and learning rate"
      ]
    },
    {
      "cell_type": "markdown",
      "metadata": {
        "id": "dxYFf5sG0_XC"
      },
      "source": [
        "### 6- Network training\n",
        "\n",
        "Let us train the network defined above. Each step is described in the comments below."
      ]
    },
    {
      "cell_type": "code",
      "execution_count": 11,
      "metadata": {
        "id": "TbGZO4wt6jTR"
      },
      "outputs": [],
      "source": [
        "n_epochs = 15 # number of epochs to train the model\n",
        "\n",
        "def training(n_epochs, train_loader, valid_loader, model, criterion, optimizer):\n",
        "\n",
        "  train_losses, valid_losses = [], []\n",
        "  # initialize tracker for minimum validation loss\n",
        "  valid_loss_min = np.Inf  # set initial \"min\" to infinity\n",
        "\n",
        "  for epoch in range(n_epochs):\n",
        "      train_loss, valid_loss = 0, 0 # monitor losses\n",
        "      \n",
        "      # train the model\n",
        "      model.train() # prep model for training\n",
        "      for data, label in train_loader:\n",
        "          data = data.to(device=device, dtype=torch.float32)\n",
        "          label = label.to(device=device, dtype=torch.long)\n",
        "          optimizer.zero_grad() # clear the gradients of all optimized variables\n",
        "          output = model(data) # forward pass: compute predicted outputs by passing inputs to the model\n",
        "          loss = criterion(output, label) # calculate the loss\n",
        "          loss.backward() # backward pass: compute gradient of the loss with respect to model parameters\n",
        "          optimizer.step() # perform a single optimization step (parameter update)\n",
        "          train_loss += loss.item() * data.size(0) # update running training loss\n",
        "      \n",
        "      # validate the model\n",
        "      model.eval()\n",
        "      for data, label in valid_loader:\n",
        "          data = data.to(device=device, dtype=torch.float32)\n",
        "          label = label.to(device=device, dtype=torch.long)\n",
        "          with torch.no_grad():\n",
        "              output = model(data)\n",
        "          loss = criterion(output,label)\n",
        "          valid_loss += loss.item() * data.size(0)\n",
        "      \n",
        "      # calculate average loss over an epoch\n",
        "      train_loss /= len(train_loader.sampler)\n",
        "      valid_loss /= len(valid_loader.sampler)\n",
        "      train_losses.append(train_loss)\n",
        "      valid_losses.append(valid_loss)\n",
        "      \n",
        "      print('epoch: {} \\ttraining Loss: {:.6f} \\tvalidation Loss: {:.6f}'.format(epoch+1, train_loss, valid_loss))\n",
        "\n",
        "      # save model if validation loss has decreased\n",
        "      if valid_loss <= valid_loss_min:\n",
        "          print('validation loss decreased ({:.6f} --> {:.6f}).  Saving model ...'.format(\n",
        "          valid_loss_min,\n",
        "          valid_loss))\n",
        "          torch.save(model.state_dict(), 'model.pt')\n",
        "          valid_loss_min = valid_loss\n",
        "      \n",
        "  return train_losses, valid_losses      "
      ]
    },
    {
      "cell_type": "markdown",
      "metadata": {
        "id": "eFVXs_h4HR6s"
      },
      "source": [
        "Labels as considered as **one-hot vectors**. A one-hot vector is a vector which is 0 in most dimensions, and 1 in a single dimension. In this case, the n$^{th}$ digit is represented as a vector which is 1 in the n$^{th}$ dimension. For example, label 3 corresponds to: [0,0,0,1,0,0,0,0,0,0]. "
      ]
    },
    {
      "cell_type": "code",
      "execution_count": 12,
      "metadata": {
        "colab": {
          "base_uri": "https://localhost:8080/",
          "height": 386
        },
        "id": "fulupe2f71cJ",
        "outputId": "681c1fe6-c225-415e-9df3-7f1524dc0ec0"
      },
      "outputs": [
        {
          "name": "stdout",
          "output_type": "stream",
          "text": [
            "epoch: 1 \ttraining Loss: 0.708997 \tvalidation Loss: 0.465607\n",
            "validation loss decreased (inf --> 0.465607).  Saving model ...\n",
            "epoch: 2 \ttraining Loss: 0.428605 \tvalidation Loss: 0.398063\n",
            "validation loss decreased (0.465607 --> 0.398063).  Saving model ...\n",
            "epoch: 3 \ttraining Loss: 0.383016 \tvalidation Loss: 0.367695\n",
            "validation loss decreased (0.398063 --> 0.367695).  Saving model ...\n",
            "epoch: 4 \ttraining Loss: 0.359746 \tvalidation Loss: 0.351158\n",
            "validation loss decreased (0.367695 --> 0.351158).  Saving model ...\n",
            "epoch: 5 \ttraining Loss: 0.345018 \tvalidation Loss: 0.340569\n",
            "validation loss decreased (0.351158 --> 0.340569).  Saving model ...\n",
            "epoch: 6 \ttraining Loss: 0.334433 \tvalidation Loss: 0.332334\n",
            "validation loss decreased (0.340569 --> 0.332334).  Saving model ...\n",
            "epoch: 7 \ttraining Loss: 0.326382 \tvalidation Loss: 0.325867\n",
            "validation loss decreased (0.332334 --> 0.325867).  Saving model ...\n",
            "epoch: 8 \ttraining Loss: 0.319973 \tvalidation Loss: 0.320899\n",
            "validation loss decreased (0.325867 --> 0.320899).  Saving model ...\n",
            "epoch: 9 \ttraining Loss: 0.314723 \tvalidation Loss: 0.316494\n",
            "validation loss decreased (0.320899 --> 0.316494).  Saving model ...\n",
            "epoch: 10 \ttraining Loss: 0.310394 \tvalidation Loss: 0.313914\n",
            "validation loss decreased (0.316494 --> 0.313914).  Saving model ...\n",
            "epoch: 11 \ttraining Loss: 0.306490 \tvalidation Loss: 0.310019\n",
            "validation loss decreased (0.313914 --> 0.310019).  Saving model ...\n",
            "epoch: 12 \ttraining Loss: 0.303172 \tvalidation Loss: 0.307738\n",
            "validation loss decreased (0.310019 --> 0.307738).  Saving model ...\n",
            "epoch: 13 \ttraining Loss: 0.300092 \tvalidation Loss: 0.306167\n",
            "validation loss decreased (0.307738 --> 0.306167).  Saving model ...\n",
            "epoch: 14 \ttraining Loss: 0.297559 \tvalidation Loss: 0.304399\n",
            "validation loss decreased (0.306167 --> 0.304399).  Saving model ...\n",
            "epoch: 15 \ttraining Loss: 0.295172 \tvalidation Loss: 0.302568\n",
            "validation loss decreased (0.304399 --> 0.302568).  Saving model ...\n"
          ]
        }
      ],
      "source": [
        "train_losses_1, valid_losses_1 = training(n_epochs, train_loader, valid_loader, model_1, criterion, optimizer)"
      ]
    },
    {
      "cell_type": "markdown",
      "metadata": {
        "id": "twmMCMSz1NoN"
      },
      "source": [
        "### 7- Convergence\n",
        "\n",
        "To study the **convergence** of the training process, we plot the evolution of the loss function for both training and validation sets with respect to epochs."
      ]
    },
    {
      "cell_type": "code",
      "execution_count": 13,
      "metadata": {
        "colab": {
          "base_uri": "https://localhost:8080/",
          "height": 239
        },
        "id": "HpT1Y7cNBA5F",
        "outputId": "f18eae91-794c-4c5e-b45b-0cdf71a99e2e"
      },
      "outputs": [
        {
          "data": {
            "text/plain": [
              "Text(0, 0.5, 'loss value')"
            ]
          },
          "execution_count": 13,
          "metadata": {},
          "output_type": "execute_result"
        },
        {
          "data": {
            "image/png": "[encoded data removed]",
            "text/plain": [
              "<Figure size 432x288 with 1 Axes>"
            ]
          },
          "metadata": {
            "needs_background": "light"
          },
          "output_type": "display_data"
        }
      ],
      "source": [
        "plt.plot(range(n_epochs), train_losses_1)\n",
        "plt.plot(range(n_epochs), valid_losses_1)\n",
        "plt.legend(['train', 'validation'], prop={'size': 10})\n",
        "plt.title('loss function', size=10)\n",
        "plt.xlabel('epoch', size=10)\n",
        "plt.ylabel('loss value', size=10)"
      ]
    },
    {
      "cell_type": "markdown",
      "metadata": {
        "id": "1C17bsUC1W_Y"
      },
      "source": [
        "Let us load the model corresponding to the lowest validation loss."
      ]
    },
    {
      "cell_type": "code",
      "execution_count": 14,
      "metadata": {
        "colab": {
          "base_uri": "https://localhost:8080/"
        },
        "id": "qzToZJN3FBbS",
        "outputId": "ab6cb784-1cf9-411f-ffcf-ca892ae9263b"
      },
      "outputs": [
        {
          "data": {
            "text/plain": [
              "<All keys matched successfully>"
            ]
          },
          "execution_count": 14,
          "metadata": {},
          "output_type": "execute_result"
        }
      ],
      "source": [
        "model_1.load_state_dict(torch.load('model.pt', map_location=device))"
      ]
    },
    {
      "cell_type": "markdown",
      "metadata": {
        "id": "NM5BWPs_3Pbz"
      },
      "source": [
        "### 8- Testing\n",
        "\n",
        "Finally, we test our best model on previously unseen test data and evaluate it’s performance. Testing on unseen data is a good way to check that our model generalizes well! It may also be useful to be granular in this analysis and take a look at how this model performs on each class as well as looking at its **overall** loss and **accuracy**."
      ]
    },
    {
      "cell_type": "code",
      "execution_count": 15,
      "metadata": {
        "id": "KQIsKly4D6bw"
      },
      "outputs": [],
      "source": [
        "def evaluation(model, test_loader, criterion):\n",
        "\n",
        "  # initialize lists to monitor test loss and accuracy\n",
        "  test_loss = 0.0\n",
        "  class_correct = list(0. for i in range(10))\n",
        "  class_total = list(0. for i in range(10))\n",
        "\n",
        "  model.eval() # prep model for evaluation\n",
        "  for data, label in test_loader:\n",
        "      data = data.to(device=device, dtype=torch.float32)\n",
        "      label = label.to(device=device, dtype=torch.long)\n",
        "      with torch.no_grad():\n",
        "          output = model(data) # forward pass: compute predicted outputs by passing inputs to the model\n",
        "      loss = criterion(output, label)\n",
        "      test_loss += loss.item()*data.size(0)\n",
        "      _, pred = torch.max(output, 1) # convert output probabilities to predicted class\n",
        "      correct = np.squeeze(pred.eq(label.data.view_as(pred))) # compare predictions to true label\n",
        "      # calculate test accuracy for each object class\n",
        "      for i in range(len(label)):\n",
        "          digit = label.data[i]\n",
        "          class_correct[digit] += correct[i].item()\n",
        "          class_total[digit] += 1\n",
        "\n",
        "  # calculate and print avg test loss\n",
        "  test_loss = test_loss/len(test_loader.sampler)\n",
        "  print('test Loss: {:.6f}\\n'.format(test_loss))\n",
        "  for i in range(10):\n",
        "      print('test accuracy of %1s: %2d%% (%2d/%2d)' % (str(i), 100 * class_correct[i] / class_total[i], np.sum(class_correct[i]), np.sum(class_total[i])))\n",
        "  print('\\ntest accuracy (overall): %2.2f%% (%2d/%2d)' % (100. * np.sum(class_correct) / np.sum(class_total), np.sum(class_correct), np.sum(class_total)))"
      ]
    },
    {
      "cell_type": "code",
      "execution_count": 16,
      "metadata": {
        "colab": {
          "base_uri": "https://localhost:8080/"
        },
        "id": "Dc3tr9mEZ2rP",
        "outputId": "1fb6878c-3082-4bf5-e9cb-80a810644df8"
      },
      "outputs": [
        {
          "name": "stdout",
          "output_type": "stream",
          "text": [
            "test Loss: 0.287229\n",
            "\n",
            "test accuracy of 0: 97% (957/980)\n",
            "test accuracy of 1: 97% (1107/1135)\n",
            "test accuracy of 2: 87% (908/1032)\n",
            "test accuracy of 3: 91% (920/1010)\n",
            "test accuracy of 4: 93% (916/982)\n",
            "test accuracy of 5: 86% (768/892)\n",
            "test accuracy of 6: 95% (911/958)\n",
            "test accuracy of 7: 91% (936/1028)\n",
            "test accuracy of 8: 89% (867/974)\n",
            "test accuracy of 9: 89% (903/1009)\n",
            "\n",
            "test accuracy (overall): 91.93% (9193/10000)\n"
          ]
        }
      ],
      "source": [
        "evaluation(model_1, test_loader, criterion)"
      ]
    },
    {
      "cell_type": "markdown",
      "metadata": {
        "id": "H6Qr8y1JrplH"
      },
      "source": [
        "#### **Question 8.1** - What is the most difficult digit to predict? Is overall accuracy good? **Answer** : 5\n"
      ]
    },
    {
      "cell_type": "markdown",
      "metadata": {
        "id": "-Brj2Tz_6QMU"
      },
      "source": [
        "### 9- Visualize results\n",
        "\n",
        "The following cell displays test images and their labels in this format: predicted (ground-truth). The text is green for accurately classified examples and red for incorrect predictions."
      ]
    },
    {
      "cell_type": "code",
      "execution_count": 17,
      "metadata": {
        "id": "7rqBNImBD-E0"
      },
      "outputs": [],
      "source": [
        "def visualization(model, test_loader):\n",
        "\n",
        "  data_iter = iter(test_loader)\n",
        "  images, labels = data_iter.next() # obtain one batch of test images\n",
        "  images = images.to(device=device, dtype=torch.float32)\n",
        "  labels = labels.to(device=device, dtype=torch.long)\n",
        "  with torch.no_grad():\n",
        "      output = model(images) # get model output\n",
        "  _, preds = torch.max(output, 1) # convert output probabilities to predicted class\n",
        "  images = images.cpu().numpy() # prep images for display\n",
        "  # plot the images in the batch, along with predicted and true labels\n",
        "  fig = plt.figure(figsize=(25, 4))\n",
        "  for idx in np.arange(20):\n",
        "      ax = fig.add_subplot(2, 20/2, idx+1, xticks=[], yticks=[])\n",
        "      ax.imshow(np.squeeze(images[idx]), cmap='gray')\n",
        "      ax.set_title(\"{} ({})\".format(str(preds[idx].item()), str(labels[idx].item())), color=(\"green\" if preds[idx]==labels[idx] else \"red\"))"
      ]
    },
    {
      "cell_type": "code",
      "execution_count": 18,
      "metadata": {
        "colab": {
          "base_uri": "https://localhost:8080/",
          "height": 225
        },
        "id": "osfUv94NaEi4",
        "outputId": "7c2b19f2-8d3c-4bc2-e3cb-88f36e07aba6"
      },
      "outputs": [
        {
          "name": "stderr",
          "output_type": "stream",
          "text": [
            "<ipython-input-17-00249bc9fa9d>:14: MatplotlibDeprecationWarning: Passing non-integers as three-element position specification is deprecated since 3.3 and will be removed two minor releases later.\n",
            "  ax = fig.add_subplot(2, 20/2, idx+1, xticks=[], yticks=[])\n"
          ]
        },
        {
          "data": {
            "image/png": "[encoded data removed]",
            "text/plain": [
              "<Figure size 1800x288 with 20 Axes>"
            ]
          },
          "metadata": {},
          "output_type": "display_data"
        }
      ],
      "source": [
        "visualization(model_1, test_loader)"
      ]
    },
    {
      "cell_type": "markdown",
      "metadata": {
        "id": "NVeueqWq6kU4"
      },
      "source": [
        "### 10- Incorrect predictions\n",
        "\n",
        "First of all, let us extract predicted (*preds*) and ground truth (*targets*) labels for images arising from the test set. "
      ]
    },
    {
      "cell_type": "code",
      "execution_count": 19,
      "metadata": {
        "id": "jxxIS6e6KXrY"
      },
      "outputs": [],
      "source": [
        "def get_all_prediction(model, loader):\n",
        "    preds = torch.tensor([], dtype=torch.long)\n",
        "    targets = torch.tensor([], dtype=torch.long)\n",
        "    for data, label in loader:\n",
        "        data = data.to(device=device, dtype=torch.float32)\n",
        "        label = label.to(device=device, dtype=torch.long)\n",
        "        with torch.no_grad():\n",
        "            output = model(data)\n",
        "        targets = torch.cat((targets, label.cpu()), dim = 0)\n",
        "        preds = torch.cat((preds, torch.max(output.cpu(), 1)[1]), dim = 0)\n",
        "    return targets.numpy(), preds.numpy()"
      ]
    },
    {
      "cell_type": "code",
      "execution_count": 20,
      "metadata": {
        "id": "g8hqY6sX64Nm"
      },
      "outputs": [],
      "source": [
        "targets, preds_1 = get_all_prediction(model_1, test_loader)"
      ]
    },
    {
      "cell_type": "markdown",
      "metadata": {
        "id": "tq8IGvWn67Rs"
      },
      "source": [
        "We are now ready to visualize some of the incorrect predictions."
      ]
    },
    {
      "cell_type": "code",
      "execution_count": 21,
      "metadata": {
        "colab": {
          "base_uri": "https://localhost:8080/",
          "height": 223
        },
        "id": "-dcFjx1QGpkm",
        "outputId": "86222f49-1317-4f37-9a52-dbf6598548c9"
      },
      "outputs": [
        {
          "name": "stderr",
          "output_type": "stream",
          "text": [
            "<ipython-input-21-e603a31b923f>:8: DeprecationWarning: `np.int` is a deprecated alias for the builtin `int`. To silence this warning, use `int` by itself. Doing this will not modify any behavior and is safe. When replacing `np.int`, you may wish to use e.g. `np.int64` or `np.int32` to specify the precision. If you wish to review your current use, check the release note link for additional information.\n",
            "Deprecated in NumPy 1.20; for more details and guidance: https://numpy.org/devdocs/release/1.20.0-notes.html#deprecations\n",
            "  plt.title(\"{} ({})\".format(str(np.int(preds_1[index[i]])), str(np.int(targets[index[i]]))),color=(\"red\"))\n"
          ]
        },
        {
          "data": {
            "image/png": "[encoded data removed]",
            "text/plain": [
              "<Figure size 1800x288 with 20 Axes>"
            ]
          },
          "metadata": {
            "needs_background": "light"
          },
          "output_type": "display_data"
        }
      ],
      "source": [
        "index = np.where(preds_1 - targets != 0)[0]\n",
        "test_set_array = test_data.data.numpy()\n",
        "plt.figure(figsize=(25, 4))\n",
        "for i in range(20):\n",
        "  plt.subplot(2, 10, i + 1)\n",
        "  plt.axis('off')\n",
        "  plt.imshow(test_set_array[index[i],:,:], cmap='gray')\n",
        "  plt.title(\"{} ({})\".format(str(np.int(preds_1[index[i]])), str(np.int(targets[index[i]]))),color=(\"red\"))\n",
        "plt.show()"
      ]
    },
    {
      "cell_type": "markdown",
      "metadata": {
        "id": "YwTFkR2RX-dx"
      },
      "source": [
        "### 11- Confusion matrix"
      ]
    },
    {
      "cell_type": "markdown",
      "metadata": {
        "id": "22L0r1zEtJqR"
      },
      "source": [
        "The confusion matrix is a specific table layout that allows visualization of the performance of an algorithm. Each row of the matrix corresponds to the instances in a ground truth class while each column represents the instances in an predicted class (or vice versa)."
      ]
    },
    {
      "cell_type": "code",
      "execution_count": 22,
      "metadata": {
        "id": "Zw0oafsMX-dx"
      },
      "outputs": [],
      "source": [
        "from sklearn.metrics import confusion_matrix\n",
        "import itertools\n",
        "\n",
        "class_names= ['0','1','2','3','4','5','6','7','8','9']\n",
        "\n",
        "def plot_confusion_matrix(cm, classes, normalize=False, title='confusion matrix', cmap=plt.cm.Blues):\n",
        "    # This function prints and plots the confusion matrix. Normalization can be applied by setting `normalize=True`\n",
        "    if normalize:\n",
        "        cm = cm.astype('float') / cm.sum(axis=1)[:, np.newaxis]\n",
        "        print(\"normalized confusion matrix\")\n",
        "    else:\n",
        "        print('confusion matrix, without normalization')\n",
        "\n",
        "    plt.imshow(cm, interpolation='nearest', cmap=cmap)\n",
        "    plt.title(title)\n",
        "    plt.colorbar()\n",
        "    tick_marks = np.arange(len(classes))\n",
        "    plt.xticks(tick_marks, classes, rotation=45)\n",
        "    plt.yticks(tick_marks, classes)\n",
        "\n",
        "    fmt = '.2f' if normalize else 'd'\n",
        "    thresh = cm.max() / 2.\n",
        "    for i, j in itertools.product(range(cm.shape[0]), range(cm.shape[1])):\n",
        "        plt.text(j, i, format(cm[i, j], fmt),\n",
        "                 horizontalalignment=\"center\",\n",
        "                 color=\"white\" if cm[i, j] > thresh else \"black\")\n",
        "\n",
        "    plt.tight_layout()\n",
        "    plt.ylabel('true label')\n",
        "    plt.xlabel('predicted label')"
      ]
    },
    {
      "cell_type": "code",
      "execution_count": 23,
      "metadata": {
        "colab": {
          "base_uri": "https://localhost:8080/",
          "height": 458
        },
        "id": "nkuaLoa-8jOz",
        "outputId": "b7fcf146-d753-41ff-e9d8-39b29173a31f"
      },
      "outputs": [
        {
          "name": "stdout",
          "output_type": "stream",
          "text": [
            "normalized confusion matrix\n"
          ]
        },
        {
          "data": {
            "image/png": "[encoded data removed]",
            "text/plain": [
              "<Figure size 432x432 with 2 Axes>"
            ]
          },
          "metadata": {
            "needs_background": "light"
          },
          "output_type": "display_data"
        }
      ],
      "source": [
        "# compute confusion matrix\n",
        "cnf_matrix = confusion_matrix(targets, preds_1)\n",
        "np.set_printoptions(precision=2)\n",
        "\n",
        "# plot normalized confusion matrix\n",
        "plt.figure(figsize=(6, 6))\n",
        "plot_confusion_matrix(cnf_matrix, classes=class_names, normalize=True, title='normalized confusion matrix')\n",
        "\n",
        "plt.show()"
      ]
    },
    {
      "cell_type": "markdown",
      "metadata": {
        "id": "4uAlWW7lsbDQ"
      },
      "source": [
        "#### **Question 11.1** - What are the most common errors? **Answer**: 5->3, 5->8"
      ]
    },
    {
      "cell_type": "markdown",
      "metadata": {
        "id": "Mpq2aqtw7MdR"
      },
      "source": [
        "### 12- Deeper MLP\n",
        "\n",
        "Our goal is to define a new architecture and train the network to reach (at least) 97% of global accuracy for the test dataset.\n",
        "\n",
        "#### **Question 12.1** - Define a deeper network architecture. In practice, we may use two hidden layers (with 512 neurons) as well as dropout ([documentation](https://pytorch.org/docs/stable/generated/torch.nn.Dropout.html)) to avoid overfitting. "
      ]
    },
    {
      "cell_type": "code",
      "execution_count": 32,
      "metadata": {
        "id": "i27yTyfnQj1t"
      },
      "outputs": [],
      "source": [
        "'''\n",
        "class Net1(nn.Module):\n",
        "\n",
        "    def __init__(self):\n",
        "        super(Net1,self).__init__()\n",
        "        self.fc1 = nn.Linear(28*28, 10) # linear layer (784 -> 10)\n",
        "        \n",
        "    def forward(self,x):\n",
        "        x = x.view(-1,28*28) # flatten input image\n",
        "        x = self.fc1(x)\n",
        "        return x\n",
        "'''\n",
        "'''\n",
        "# class initialization\n",
        "    def __init__(self, input_size, hidden_size, output_size):\n",
        "        super(nonlinear_regression_nn, self).__init__()\n",
        "        # fully connected layer with linear activation\n",
        "        self.fc0 = nn.Linear(input_size, hidden_size)\n",
        "        # ReLu activation\n",
        "        self.relu = nn.ReLU()\n",
        "        # fully connected layer with linear activation\n",
        "        self.fc1 = nn.Linear(hidden_size, output_size)\n",
        "        \n",
        "    # function to apply the neural network\n",
        "    def forward(self, x):\n",
        "        out = self.fc0(x)\n",
        "        out = self.relu(out)\n",
        "        y_pred = self.fc1(out)\n",
        "        return y_pred\n",
        "'''\n",
        "class Net2(nn.Module):  \n",
        "    def __init__(self):\n",
        "        super(Net2,self).__init__()\n",
        "        self.fc1 = nn.Linear(28*28, 512) # linear layer (784 -> 512)\n",
        "        self.Drop = nn.Dropout(p=0.2)\n",
        "        self.rel1 = nn.ReLU()\n",
        "        self.fc2 = nn.Linear(512, 512)\n",
        "        self.rel2 = nn.ReLU()\n",
        "        self.fc3 = nn.Linear(512, 10)\n",
        "        self.SoftM = nn.Softmax(dim=1)\n",
        "        \n",
        "    def forward(self,x):\n",
        "        x = x.view(-1,28*28) # flatten input image\n",
        "        x = self.fc1(x)\n",
        "        x = self.Drop(x)\n",
        "        x = self.rel1(x)\n",
        "        x = self.fc2(x)\n",
        "        x = self.Drop(x)\n",
        "        x = self.rel2(x)\n",
        "        x = self.fc3(x)\n",
        "        #x = self.SoftM(x)\n",
        "        return x\n",
        "        \n"
      ]
    },
    {
      "cell_type": "code",
      "execution_count": 33,
      "metadata": {
        "colab": {
          "base_uri": "https://localhost:8080/"
        },
        "id": "TiddhzR3SkW-",
        "outputId": "35c75bf7-b5ec-4768-964b-fee7e84eee4f"
      },
      "outputs": [
        {
          "data": {
            "text/plain": [
              "Net2(\n",
              "  (fc1): Linear(in_features=784, out_features=512, bias=True)\n",
              "  (Drop): Dropout(p=0.2, inplace=False)\n",
              "  (rel1): ReLU()\n",
              "  (fc2): Linear(in_features=512, out_features=512, bias=True)\n",
              "  (rel2): ReLU()\n",
              "  (fc3): Linear(in_features=512, out_features=10, bias=True)\n",
              "  (SoftM): Softmax(dim=1)\n",
              ")"
            ]
          },
          "execution_count": 33,
          "metadata": {},
          "output_type": "execute_result"
        }
      ],
      "source": [
        "model_2 = Net2()\n",
        "model_2.to(device=device)"
      ]
    },
    {
      "cell_type": "markdown",
      "metadata": {
        "id": "yvfwuG2b7toM"
      },
      "source": [
        "#### **Question 12.2** - Train the new MLP model (*Net2*)."
      ]
    },
    {
      "cell_type": "markdown",
      "metadata": {
        "id": "v6Y1kUlVLM80"
      },
      "source": [
        "#### Define an optimizer for model_2."
      ]
    },
    {
      "cell_type": "code",
      "execution_count": 34,
      "metadata": {
        "id": "cUP7EYwn-9lC"
      },
      "outputs": [],
      "source": [
        "optimizer = torch.optim.SGD(model_2.parameters(),lr = 0.01) # specify optimizer (stochastic gradient descent) and learning rate"
      ]
    },
    {
      "cell_type": "markdown",
      "metadata": {
        "id": "Rs28G_bYLM82"
      },
      "source": [
        "#### Use the \"training\" function in Section 6 to train the model_2."
      ]
    },
    {
      "cell_type": "code",
      "execution_count": 35,
      "metadata": {
        "colab": {
          "base_uri": "https://localhost:8080/"
        },
        "id": "xkfZoZzxStIn",
        "outputId": "a01925cb-ddd3-4b7a-86f6-ce03743d1a27"
      },
      "outputs": [
        {
          "name": "stdout",
          "output_type": "stream",
          "text": [
            "epoch: 1 \ttraining Loss: 0.947858 \tvalidation Loss: 0.381341\n",
            "validation loss decreased (inf --> 0.381341).  Saving model ...\n",
            "epoch: 2 \ttraining Loss: 0.355370 \tvalidation Loss: 0.294759\n",
            "validation loss decreased (0.381341 --> 0.294759).  Saving model ...\n",
            "epoch: 3 \ttraining Loss: 0.283624 \tvalidation Loss: 0.237051\n",
            "validation loss decreased (0.294759 --> 0.237051).  Saving model ...\n",
            "epoch: 4 \ttraining Loss: 0.234041 \tvalidation Loss: 0.200518\n",
            "validation loss decreased (0.237051 --> 0.200518).  Saving model ...\n",
            "epoch: 5 \ttraining Loss: 0.198784 \tvalidation Loss: 0.175257\n",
            "validation loss decreased (0.200518 --> 0.175257).  Saving model ...\n",
            "epoch: 6 \ttraining Loss: 0.172026 \tvalidation Loss: 0.157270\n",
            "validation loss decreased (0.175257 --> 0.157270).  Saving model ...\n",
            "epoch: 7 \ttraining Loss: 0.151609 \tvalidation Loss: 0.139043\n",
            "validation loss decreased (0.157270 --> 0.139043).  Saving model ...\n",
            "epoch: 8 \ttraining Loss: 0.135480 \tvalidation Loss: 0.129686\n",
            "validation loss decreased (0.139043 --> 0.129686).  Saving model ...\n",
            "epoch: 9 \ttraining Loss: 0.122535 \tvalidation Loss: 0.117838\n",
            "validation loss decreased (0.129686 --> 0.117838).  Saving model ...\n",
            "epoch: 10 \ttraining Loss: 0.110371 \tvalidation Loss: 0.109472\n",
            "validation loss decreased (0.117838 --> 0.109472).  Saving model ...\n",
            "epoch: 11 \ttraining Loss: 0.101422 \tvalidation Loss: 0.105883\n",
            "validation loss decreased (0.109472 --> 0.105883).  Saving model ...\n",
            "epoch: 12 \ttraining Loss: 0.091831 \tvalidation Loss: 0.100088\n",
            "validation loss decreased (0.105883 --> 0.100088).  Saving model ...\n",
            "epoch: 13 \ttraining Loss: 0.085691 \tvalidation Loss: 0.094937\n",
            "validation loss decreased (0.100088 --> 0.094937).  Saving model ...\n",
            "epoch: 14 \ttraining Loss: 0.079125 \tvalidation Loss: 0.090318\n",
            "validation loss decreased (0.094937 --> 0.090318).  Saving model ...\n",
            "epoch: 15 \ttraining Loss: 0.073622 \tvalidation Loss: 0.088322\n",
            "validation loss decreased (0.090318 --> 0.088322).  Saving model ...\n"
          ]
        }
      ],
      "source": [
        "\n",
        "# train_losses_1, valid_losses_1 = training(n_epochs, train_loader, valid_loader, model_1, criterion, optimizer)\n",
        "train_losses_2, valid_losses_2 = training(n_epochs, train_loader, valid_loader, model_2, criterion, optimizer)"
      ]
    },
    {
      "cell_type": "markdown",
      "metadata": {
        "id": "sO9E6UY8H3ab"
      },
      "source": [
        "#### **Question 12.3** - For comparison purposes, display in a single graph the loss functions for both training and validation sets and both models (*Net1* and *Net2*)."
      ]
    },
    {
      "cell_type": "code",
      "execution_count": 36,
      "metadata": {
        "id": "3BVzXDIS9JzI"
      },
      "outputs": [
        {
          "data": {
            "text/plain": [
              "Text(0, 0.5, 'loss value')"
            ]
          },
          "execution_count": 36,
          "metadata": {},
          "output_type": "execute_result"
        },
        {
          "data": {
            "image/png": "[encoded data removed]",
            "text/plain": [
              "<Figure size 432x288 with 1 Axes>"
            ]
          },
          "metadata": {
            "needs_background": "light"
          },
          "output_type": "display_data"
        }
      ],
      "source": [
        "plt.plot(range(n_epochs), train_losses_1)\n",
        "plt.plot(range(n_epochs), valid_losses_1)\n",
        "plt.plot(range(n_epochs), train_losses_2)\n",
        "plt.plot(range(n_epochs), valid_losses_2)\n",
        "\n",
        "\n",
        "\n",
        "plt.legend(['train m1', 'validation m1', 'train m2', 'validation m2'], prop={'size': 10})\n",
        "plt.title('loss function', size=10)\n",
        "plt.xlabel('epoch', size=10)\n",
        "plt.ylabel('loss value', size=10)"
      ]
    },
    {
      "cell_type": "markdown",
      "metadata": {
        "id": "H0nkNOcBuIfk"
      },
      "source": [
        "#### **Question 12.4** - Perform the quantitative assessment by computing per-class and overall accuracy scores."
      ]
    },
    {
      "cell_type": "code",
      "execution_count": 37,
      "metadata": {
        "id": "67BAmgUs9XaX"
      },
      "outputs": [
        {
          "data": {
            "text/plain": [
              "<All keys matched successfully>"
            ]
          },
          "execution_count": 37,
          "metadata": {},
          "output_type": "execute_result"
        }
      ],
      "source": [
        "model_2.load_state_dict(torch.load('model.pt', map_location=device))"
      ]
    },
    {
      "cell_type": "markdown",
      "metadata": {
        "id": "9YVxVnlOLM86"
      },
      "source": [
        "#### Use the Evaluation function defined in Section 8 to assess the performance of model_2"
      ]
    },
    {
      "cell_type": "code",
      "execution_count": 38,
      "metadata": {
        "id": "CqBiPair9Y27"
      },
      "outputs": [
        {
          "name": "stdout",
          "output_type": "stream",
          "text": [
            "test Loss: 0.080509\n",
            "\n",
            "test accuracy of 0: 99% (972/980)\n",
            "test accuracy of 1: 99% (1126/1135)\n",
            "test accuracy of 2: 97% (1004/1032)\n",
            "test accuracy of 3: 97% (987/1010)\n",
            "test accuracy of 4: 97% (961/982)\n",
            "test accuracy of 5: 96% (864/892)\n",
            "test accuracy of 6: 97% (931/958)\n",
            "test accuracy of 7: 95% (985/1028)\n",
            "test accuracy of 8: 97% (946/974)\n",
            "test accuracy of 9: 96% (970/1009)\n",
            "\n",
            "test accuracy (overall): 97.46% (9746/10000)\n"
          ]
        }
      ],
      "source": [
        "evaluation(model_2, test_loader, criterion)"
      ]
    },
    {
      "cell_type": "markdown",
      "metadata": {
        "id": "6wq-olf_86Jn"
      },
      "source": [
        "#### **Question 12.5** - Perform the qualitative assessment by displaying some test images with their predicted and ground truth labels."
      ]
    },
    {
      "cell_type": "code",
      "execution_count": 39,
      "metadata": {
        "id": "1ZGhHSuO9i5_"
      },
      "outputs": [
        {
          "name": "stderr",
          "output_type": "stream",
          "text": [
            "<ipython-input-17-00249bc9fa9d>:14: MatplotlibDeprecationWarning: Passing non-integers as three-element position specification is deprecated since 3.3 and will be removed two minor releases later.\n",
            "  ax = fig.add_subplot(2, 20/2, idx+1, xticks=[], yticks=[])\n"
          ]
        },
        {
          "data": {
            "image/png": "[encoded data removed]",
            "text/plain": [
              "<Figure size 1800x288 with 20 Axes>"
            ]
          },
          "metadata": {},
          "output_type": "display_data"
        }
      ],
      "source": [
        "visualization(model_2, test_loader)"
      ]
    },
    {
      "cell_type": "markdown",
      "metadata": {
        "id": "94BcUYIG9Vv_"
      },
      "source": [
        "#### **Question 12.6** - Compute the predicted labels for the test set and display the resulting confusion matrix."
      ]
    },
    {
      "cell_type": "code",
      "execution_count": 40,
      "metadata": {
        "id": "Wyh-y8w290Nf"
      },
      "outputs": [
        {
          "name": "stderr",
          "output_type": "stream",
          "text": [
            "<ipython-input-40-499644b55481>:10: DeprecationWarning: `np.int` is a deprecated alias for the builtin `int`. To silence this warning, use `int` by itself. Doing this will not modify any behavior and is safe. When replacing `np.int`, you may wish to use e.g. `np.int64` or `np.int32` to specify the precision. If you wish to review your current use, check the release note link for additional information.\n",
            "Deprecated in NumPy 1.20; for more details and guidance: https://numpy.org/devdocs/release/1.20.0-notes.html#deprecations\n",
            "  plt.title(\"{} ({})\".format(str(np.int(preds_2[index[i]])), str(np.int(targets[index[i]]))),color=(\"red\"))\n"
          ]
        },
        {
          "data": {
            "image/png": "[encoded data removed]",
            "text/plain": [
              "<Figure size 1800x288 with 20 Axes>"
            ]
          },
          "metadata": {
            "needs_background": "light"
          },
          "output_type": "display_data"
        }
      ],
      "source": [
        "targets, preds_2 = get_all_prediction(model_2, test_loader)\n",
        "\n",
        "index = np.where(preds_2 - targets != 0)[0]\n",
        "test_set_array = test_data.data.numpy()\n",
        "plt.figure(figsize=(25, 4))\n",
        "for i in range(20):\n",
        "  plt.subplot(2, 10, i + 1)\n",
        "  plt.axis('off')\n",
        "  plt.imshow(test_set_array[index[i],:,:], cmap='gray')\n",
        "  plt.title(\"{} ({})\".format(str(np.int(preds_2[index[i]])), str(np.int(targets[index[i]]))),color=(\"red\"))\n",
        "plt.show()"
      ]
    },
    {
      "cell_type": "code",
      "execution_count": 41,
      "metadata": {
        "id": "kbuIhyq_uXQ8"
      },
      "outputs": [
        {
          "name": "stdout",
          "output_type": "stream",
          "text": [
            "normalized confusion matrix\n"
          ]
        },
        {
          "data": {
            "image/png": "[encoded data removed]",
            "text/plain": [
              "<Figure size 432x432 with 2 Axes>"
            ]
          },
          "metadata": {
            "needs_background": "light"
          },
          "output_type": "display_data"
        }
      ],
      "source": [
        "# compute confusion matrix\n",
        "cnf_matrix = confusion_matrix(targets, preds_2)\n",
        "np.set_printoptions(precision=2)\n",
        "\n",
        "# plot normalized confusion matrix\n",
        "plt.figure(figsize=(6, 6))\n",
        "plot_confusion_matrix(cnf_matrix, classes=class_names, normalize=True, title='normalized confusion matrix')\n",
        "\n",
        "plt.show()"
      ]
    },
    {
      "cell_type": "markdown",
      "metadata": {
        "id": "9HGAp_PrunNf"
      },
      "source": [
        "#### **Question 12.7** - What are the results for incorrect predictions arising from *Net1*? Labels should be indicated in the following format: predicted from *Net1* (ground-truth) | predicted from *Net2*."
      ]
    },
    {
      "cell_type": "code",
      "execution_count": null,
      "metadata": {
        "id": "s_Yeqh9p95ti"
      },
      "outputs": [],
      "source": [
        "\n",
        "\n",
        "\n"
      ]
    },
    {
      "cell_type": "markdown",
      "metadata": {
        "id": "MqNAXRUN9il8"
      },
      "source": [
        "\n",
        "\n",
        "---\n",
        "\n"
      ]
    }
  ],
  "metadata": {
    "accelerator": "GPU",
    "colab": {
      "collapsed_sections": [],
      "include_colab_link": true,
      "name": "lab-session-3-MLP-MNIST-correction.ipynb",
      "provenance": []
    },
    "interpreter": {
      "hash": "7b4b4feff2f24a0f0a34464dbe537a36fda679851528fb8735cb41fa49dffb2d"
    },
    "kernelspec": {
      "display_name": "Python 3.8.8 64-bit ('base': conda)",
      "name": "python3"
    },
    "language_info": {
      "codemirror_mode": {
        "name": "ipython",
        "version": 3
      },
      "file_extension": ".py",
      "mimetype": "text/x-python",
      "name": "python",
      "nbconvert_exporter": "python",
      "pygments_lexer": "ipython3",
      "version": "3.8.8"
    },
    "widgets": {
      "application/vnd.jupyter.widget-state+json": {
        "01a4c73df6b84c16bd391f32af1ef6e7": {
          "model_module": "@jupyter-widgets/base",
          "model_module_version": "1.2.0",
          "model_name": "LayoutModel",
          "state": {
            "_model_module": "@jupyter-widgets/base",
            "_model_module_version": "1.2.0",
            "_model_name": "LayoutModel",
            "_view_count": null,
            "_view_module": "@jupyter-widgets/base",
            "_view_module_version": "1.2.0",
            "_view_name": "LayoutView",
            "align_content": null,
            "align_items": null,
            "align_self": null,
            "border": null,
            "bottom": null,
            "display": null,
            "flex": null,
            "flex_flow": null,
            "grid_area": null,
            "grid_auto_columns": null,
            "grid_auto_flow": null,
            "grid_auto_rows": null,
            "grid_column": null,
            "grid_gap": null,
            "grid_row": null,
            "grid_template_areas": null,
            "grid_template_columns": null,
            "grid_template_rows": null,
            "height": null,
            "justify_content": null,
            "justify_items": null,
            "left": null,
            "margin": null,
            "max_height": null,
            "max_width": null,
            "min_height": null,
            "min_width": null,
            "object_fit": null,
            "object_position": null,
            "order": null,
            "overflow": null,
            "overflow_x": null,
            "overflow_y": null,
            "padding": null,
            "right": null,
            "top": null,
            "visibility": null,
            "width": null
          }
        },
        "037153888ec24e34bd0a9dea0b44ee5b": {
          "model_module": "@jupyter-widgets/controls",
          "model_module_version": "1.5.0",
          "model_name": "ProgressStyleModel",
          "state": {
            "_model_module": "@jupyter-widgets/controls",
            "_model_module_version": "1.5.0",
            "_model_name": "ProgressStyleModel",
            "_view_count": null,
            "_view_module": "@jupyter-widgets/base",
            "_view_module_version": "1.2.0",
            "_view_name": "StyleView",
            "bar_color": null,
            "description_width": ""
          }
        },
        "0935dfe4dcb6451abd8904425312701a": {
          "model_module": "@jupyter-widgets/base",
          "model_module_version": "1.2.0",
          "model_name": "LayoutModel",
          "state": {
            "_model_module": "@jupyter-widgets/base",
            "_model_module_version": "1.2.0",
            "_model_name": "LayoutModel",
            "_view_count": null,
            "_view_module": "@jupyter-widgets/base",
            "_view_module_version": "1.2.0",
            "_view_name": "LayoutView",
            "align_content": null,
            "align_items": null,
            "align_self": null,
            "border": null,
            "bottom": null,
            "display": null,
            "flex": null,
            "flex_flow": null,
            "grid_area": null,
            "grid_auto_columns": null,
            "grid_auto_flow": null,
            "grid_auto_rows": null,
            "grid_column": null,
            "grid_gap": null,
            "grid_row": null,
            "grid_template_areas": null,
            "grid_template_columns": null,
            "grid_template_rows": null,
            "height": null,
            "justify_content": null,
            "justify_items": null,
            "left": null,
            "margin": null,
            "max_height": null,
            "max_width": null,
            "min_height": null,
            "min_width": null,
            "object_fit": null,
            "object_position": null,
            "order": null,
            "overflow": null,
            "overflow_x": null,
            "overflow_y": null,
            "padding": null,
            "right": null,
            "top": null,
            "visibility": null,
            "width": null
          }
        },
        "0ab83bfc910a4e4b8977b4b09c345a3d": {
          "model_module": "@jupyter-widgets/controls",
          "model_module_version": "1.5.0",
          "model_name": "HTMLModel",
          "state": {
            "_dom_classes": [],
            "_model_module": "@jupyter-widgets/controls",
            "_model_module_version": "1.5.0",
            "_model_name": "HTMLModel",
            "_view_count": null,
            "_view_module": "@jupyter-widgets/controls",
            "_view_module_version": "1.5.0",
            "_view_name": "HTMLView",
            "description": "",
            "description_tooltip": null,
            "layout": "IPY_MODEL_42b44078e4164a71a02956187332772e",
            "placeholder": "​",
            "style": "IPY_MODEL_2c17fd4faa8f499dbc0f3ceec51160f5",
            "value": ""
          }
        },
        "13e747892ab345c89140ae9d823f8adc": {
          "model_module": "@jupyter-widgets/controls",
          "model_module_version": "1.5.0",
          "model_name": "HBoxModel",
          "state": {
            "_dom_classes": [],
            "_model_module": "@jupyter-widgets/controls",
            "_model_module_version": "1.5.0",
            "_model_name": "HBoxModel",
            "_view_count": null,
            "_view_module": "@jupyter-widgets/controls",
            "_view_module_version": "1.5.0",
            "_view_name": "HBoxView",
            "box_style": "",
            "children": [
              "IPY_MODEL_1a10755772b64c73828f7d2a3c5733b4",
              "IPY_MODEL_82e786906ae4497090377903d4534aee",
              "IPY_MODEL_617a8295f9a8400db7c7956540bcc103"
            ],
            "layout": "IPY_MODEL_d75ff9c593944f64a1e800cc3887aa0d"
          }
        },
        "16fd391f2a194a74b7fc886829820589": {
          "model_module": "@jupyter-widgets/controls",
          "model_module_version": "1.5.0",
          "model_name": "FloatProgressModel",
          "state": {
            "_dom_classes": [],
            "_model_module": "@jupyter-widgets/controls",
            "_model_module_version": "1.5.0",
            "_model_name": "FloatProgressModel",
            "_view_count": null,
            "_view_module": "@jupyter-widgets/controls",
            "_view_module_version": "1.5.0",
            "_view_name": "ProgressView",
            "bar_style": "success",
            "description": "",
            "description_tooltip": null,
            "layout": "IPY_MODEL_01a4c73df6b84c16bd391f32af1ef6e7",
            "max": 4542,
            "min": 0,
            "orientation": "horizontal",
            "style": "IPY_MODEL_a676235b27dd466fb7d94059c6043e44",
            "value": 4542
          }
        },
        "1a10755772b64c73828f7d2a3c5733b4": {
          "model_module": "@jupyter-widgets/controls",
          "model_module_version": "1.5.0",
          "model_name": "HTMLModel",
          "state": {
            "_dom_classes": [],
            "_model_module": "@jupyter-widgets/controls",
            "_model_module_version": "1.5.0",
            "_model_name": "HTMLModel",
            "_view_count": null,
            "_view_module": "@jupyter-widgets/controls",
            "_view_module_version": "1.5.0",
            "_view_name": "HTMLView",
            "description": "",
            "description_tooltip": null,
            "layout": "IPY_MODEL_e92fbab7bbbf426b8695d575d423ed68",
            "placeholder": "​",
            "style": "IPY_MODEL_8f3c12541d564b5d9b7ffd986b67df20",
            "value": ""
          }
        },
        "1d8bf29123be4592a1f55b9cb2583ffb": {
          "model_module": "@jupyter-widgets/controls",
          "model_module_version": "1.5.0",
          "model_name": "DescriptionStyleModel",
          "state": {
            "_model_module": "@jupyter-widgets/controls",
            "_model_module_version": "1.5.0",
            "_model_name": "DescriptionStyleModel",
            "_view_count": null,
            "_view_module": "@jupyter-widgets/base",
            "_view_module_version": "1.2.0",
            "_view_name": "StyleView",
            "description_width": ""
          }
        },
        "29487a66ae1c4c2bb3de015c13832766": {
          "model_module": "@jupyter-widgets/controls",
          "model_module_version": "1.5.0",
          "model_name": "ProgressStyleModel",
          "state": {
            "_model_module": "@jupyter-widgets/controls",
            "_model_module_version": "1.5.0",
            "_model_name": "ProgressStyleModel",
            "_view_count": null,
            "_view_module": "@jupyter-widgets/base",
            "_view_module_version": "1.2.0",
            "_view_name": "StyleView",
            "bar_color": null,
            "description_width": ""
          }
        },
        "2a3b552f2b7a414d939e741aeb835508": {
          "model_module": "@jupyter-widgets/base",
          "model_module_version": "1.2.0",
          "model_name": "LayoutModel",
          "state": {
            "_model_module": "@jupyter-widgets/base",
            "_model_module_version": "1.2.0",
            "_model_name": "LayoutModel",
            "_view_count": null,
            "_view_module": "@jupyter-widgets/base",
            "_view_module_version": "1.2.0",
            "_view_name": "LayoutView",
            "align_content": null,
            "align_items": null,
            "align_self": null,
            "border": null,
            "bottom": null,
            "display": null,
            "flex": null,
            "flex_flow": null,
            "grid_area": null,
            "grid_auto_columns": null,
            "grid_auto_flow": null,
            "grid_auto_rows": null,
            "grid_column": null,
            "grid_gap": null,
            "grid_row": null,
            "grid_template_areas": null,
            "grid_template_columns": null,
            "grid_template_rows": null,
            "height": null,
            "justify_content": null,
            "justify_items": null,
            "left": null,
            "margin": null,
            "max_height": null,
            "max_width": null,
            "min_height": null,
            "min_width": null,
            "object_fit": null,
            "object_position": null,
            "order": null,
            "overflow": null,
            "overflow_x": null,
            "overflow_y": null,
            "padding": null,
            "right": null,
            "top": null,
            "visibility": null,
            "width": null
          }
        },
        "2aae17a4d3fc4e9cb06d2996815b7627": {
          "model_module": "@jupyter-widgets/controls",
          "model_module_version": "1.5.0",
          "model_name": "HTMLModel",
          "state": {
            "_dom_classes": [],
            "_model_module": "@jupyter-widgets/controls",
            "_model_module_version": "1.5.0",
            "_model_name": "HTMLModel",
            "_view_count": null,
            "_view_module": "@jupyter-widgets/controls",
            "_view_module_version": "1.5.0",
            "_view_name": "HTMLView",
            "description": "",
            "description_tooltip": null,
            "layout": "IPY_MODEL_d6c3bf32529b41d2b3dbdccbb49d4cf4",
            "placeholder": "​",
            "style": "IPY_MODEL_9463d40046514b638142ea290de8bc6d",
            "value": " 5120/? [00:00&lt;00:00, 113885.59it/s]"
          }
        },
        "2b92f36a20b44548aea702770b852d7d": {
          "model_module": "@jupyter-widgets/controls",
          "model_module_version": "1.5.0",
          "model_name": "HTMLModel",
          "state": {
            "_dom_classes": [],
            "_model_module": "@jupyter-widgets/controls",
            "_model_module_version": "1.5.0",
            "_model_name": "HTMLModel",
            "_view_count": null,
            "_view_module": "@jupyter-widgets/controls",
            "_view_module_version": "1.5.0",
            "_view_name": "HTMLView",
            "description": "",
            "description_tooltip": null,
            "layout": "IPY_MODEL_60b18057ca9f4ab8b4e5ff7d5fe9fa41",
            "placeholder": "​",
            "style": "IPY_MODEL_37a03ac14c6545169da7aefa0004a9f7",
            "value": " 1649664/? [00:00&lt;00:00, 11220963.98it/s]"
          }
        },
        "2c17fd4faa8f499dbc0f3ceec51160f5": {
          "model_module": "@jupyter-widgets/controls",
          "model_module_version": "1.5.0",
          "model_name": "DescriptionStyleModel",
          "state": {
            "_model_module": "@jupyter-widgets/controls",
            "_model_module_version": "1.5.0",
            "_model_name": "DescriptionStyleModel",
            "_view_count": null,
            "_view_module": "@jupyter-widgets/base",
            "_view_module_version": "1.2.0",
            "_view_name": "StyleView",
            "description_width": ""
          }
        },
        "3646c6e31a1b4d1983c71dfc1ede238d": {
          "model_module": "@jupyter-widgets/controls",
          "model_module_version": "1.5.0",
          "model_name": "HTMLModel",
          "state": {
            "_dom_classes": [],
            "_model_module": "@jupyter-widgets/controls",
            "_model_module_version": "1.5.0",
            "_model_name": "HTMLModel",
            "_view_count": null,
            "_view_module": "@jupyter-widgets/controls",
            "_view_module_version": "1.5.0",
            "_view_name": "HTMLView",
            "description": "",
            "description_tooltip": null,
            "layout": "IPY_MODEL_f7aa837786ff458dbf1ecc12570a399a",
            "placeholder": "​",
            "style": "IPY_MODEL_b9433d3e182447bd8a73379dd56a2aee",
            "value": ""
          }
        },
        "36cd6b7598d0441f847afd78390bc9f5": {
          "model_module": "@jupyter-widgets/controls",
          "model_module_version": "1.5.0",
          "model_name": "FloatProgressModel",
          "state": {
            "_dom_classes": [],
            "_model_module": "@jupyter-widgets/controls",
            "_model_module_version": "1.5.0",
            "_model_name": "FloatProgressModel",
            "_view_count": null,
            "_view_module": "@jupyter-widgets/controls",
            "_view_module_version": "1.5.0",
            "_view_name": "ProgressView",
            "bar_style": "success",
            "description": "",
            "description_tooltip": null,
            "layout": "IPY_MODEL_c36121f1425a40e49f129728229bf669",
            "max": 1648877,
            "min": 0,
            "orientation": "horizontal",
            "style": "IPY_MODEL_037153888ec24e34bd0a9dea0b44ee5b",
            "value": 1648877
          }
        },
        "37a03ac14c6545169da7aefa0004a9f7": {
          "model_module": "@jupyter-widgets/controls",
          "model_module_version": "1.5.0",
          "model_name": "DescriptionStyleModel",
          "state": {
            "_model_module": "@jupyter-widgets/controls",
            "_model_module_version": "1.5.0",
            "_model_name": "DescriptionStyleModel",
            "_view_count": null,
            "_view_module": "@jupyter-widgets/base",
            "_view_module_version": "1.2.0",
            "_view_name": "StyleView",
            "description_width": ""
          }
        },
        "42b44078e4164a71a02956187332772e": {
          "model_module": "@jupyter-widgets/base",
          "model_module_version": "1.2.0",
          "model_name": "LayoutModel",
          "state": {
            "_model_module": "@jupyter-widgets/base",
            "_model_module_version": "1.2.0",
            "_model_name": "LayoutModel",
            "_view_count": null,
            "_view_module": "@jupyter-widgets/base",
            "_view_module_version": "1.2.0",
            "_view_name": "LayoutView",
            "align_content": null,
            "align_items": null,
            "align_self": null,
            "border": null,
            "bottom": null,
            "display": null,
            "flex": null,
            "flex_flow": null,
            "grid_area": null,
            "grid_auto_columns": null,
            "grid_auto_flow": null,
            "grid_auto_rows": null,
            "grid_column": null,
            "grid_gap": null,
            "grid_row": null,
            "grid_template_areas": null,
            "grid_template_columns": null,
            "grid_template_rows": null,
            "height": null,
            "justify_content": null,
            "justify_items": null,
            "left": null,
            "margin": null,
            "max_height": null,
            "max_width": null,
            "min_height": null,
            "min_width": null,
            "object_fit": null,
            "object_position": null,
            "order": null,
            "overflow": null,
            "overflow_x": null,
            "overflow_y": null,
            "padding": null,
            "right": null,
            "top": null,
            "visibility": null,
            "width": null
          }
        },
        "60b18057ca9f4ab8b4e5ff7d5fe9fa41": {
          "model_module": "@jupyter-widgets/base",
          "model_module_version": "1.2.0",
          "model_name": "LayoutModel",
          "state": {
            "_model_module": "@jupyter-widgets/base",
            "_model_module_version": "1.2.0",
            "_model_name": "LayoutModel",
            "_view_count": null,
            "_view_module": "@jupyter-widgets/base",
            "_view_module_version": "1.2.0",
            "_view_name": "LayoutView",
            "align_content": null,
            "align_items": null,
            "align_self": null,
            "border": null,
            "bottom": null,
            "display": null,
            "flex": null,
            "flex_flow": null,
            "grid_area": null,
            "grid_auto_columns": null,
            "grid_auto_flow": null,
            "grid_auto_rows": null,
            "grid_column": null,
            "grid_gap": null,
            "grid_row": null,
            "grid_template_areas": null,
            "grid_template_columns": null,
            "grid_template_rows": null,
            "height": null,
            "justify_content": null,
            "justify_items": null,
            "left": null,
            "margin": null,
            "max_height": null,
            "max_width": null,
            "min_height": null,
            "min_width": null,
            "object_fit": null,
            "object_position": null,
            "order": null,
            "overflow": null,
            "overflow_x": null,
            "overflow_y": null,
            "padding": null,
            "right": null,
            "top": null,
            "visibility": null,
            "width": null
          }
        },
        "617a8295f9a8400db7c7956540bcc103": {
          "model_module": "@jupyter-widgets/controls",
          "model_module_version": "1.5.0",
          "model_name": "HTMLModel",
          "state": {
            "_dom_classes": [],
            "_model_module": "@jupyter-widgets/controls",
            "_model_module_version": "1.5.0",
            "_model_name": "HTMLModel",
            "_view_count": null,
            "_view_module": "@jupyter-widgets/controls",
            "_view_module_version": "1.5.0",
            "_view_name": "HTMLView",
            "description": "",
            "description_tooltip": null,
            "layout": "IPY_MODEL_901ea6f357f24f859979ac49e05f7c24",
            "placeholder": "​",
            "style": "IPY_MODEL_953194b87ef3475da8fdf80ed1e9e5c9",
            "value": " 9913344/? [00:00&lt;00:00, 54151018.21it/s]"
          }
        },
        "661bc6ad08d04017af7f3d1d81a1e03c": {
          "model_module": "@jupyter-widgets/base",
          "model_module_version": "1.2.0",
          "model_name": "LayoutModel",
          "state": {
            "_model_module": "@jupyter-widgets/base",
            "_model_module_version": "1.2.0",
            "_model_name": "LayoutModel",
            "_view_count": null,
            "_view_module": "@jupyter-widgets/base",
            "_view_module_version": "1.2.0",
            "_view_name": "LayoutView",
            "align_content": null,
            "align_items": null,
            "align_self": null,
            "border": null,
            "bottom": null,
            "display": null,
            "flex": null,
            "flex_flow": null,
            "grid_area": null,
            "grid_auto_columns": null,
            "grid_auto_flow": null,
            "grid_auto_rows": null,
            "grid_column": null,
            "grid_gap": null,
            "grid_row": null,
            "grid_template_areas": null,
            "grid_template_columns": null,
            "grid_template_rows": null,
            "height": null,
            "justify_content": null,
            "justify_items": null,
            "left": null,
            "margin": null,
            "max_height": null,
            "max_width": null,
            "min_height": null,
            "min_width": null,
            "object_fit": null,
            "object_position": null,
            "order": null,
            "overflow": null,
            "overflow_x": null,
            "overflow_y": null,
            "padding": null,
            "right": null,
            "top": null,
            "visibility": null,
            "width": null
          }
        },
        "6a0674d20fb049eea1d166df531b91ed": {
          "model_module": "@jupyter-widgets/base",
          "model_module_version": "1.2.0",
          "model_name": "LayoutModel",
          "state": {
            "_model_module": "@jupyter-widgets/base",
            "_model_module_version": "1.2.0",
            "_model_name": "LayoutModel",
            "_view_count": null,
            "_view_module": "@jupyter-widgets/base",
            "_view_module_version": "1.2.0",
            "_view_name": "LayoutView",
            "align_content": null,
            "align_items": null,
            "align_self": null,
            "border": null,
            "bottom": null,
            "display": null,
            "flex": null,
            "flex_flow": null,
            "grid_area": null,
            "grid_auto_columns": null,
            "grid_auto_flow": null,
            "grid_auto_rows": null,
            "grid_column": null,
            "grid_gap": null,
            "grid_row": null,
            "grid_template_areas": null,
            "grid_template_columns": null,
            "grid_template_rows": null,
            "height": null,
            "justify_content": null,
            "justify_items": null,
            "left": null,
            "margin": null,
            "max_height": null,
            "max_width": null,
            "min_height": null,
            "min_width": null,
            "object_fit": null,
            "object_position": null,
            "order": null,
            "overflow": null,
            "overflow_x": null,
            "overflow_y": null,
            "padding": null,
            "right": null,
            "top": null,
            "visibility": null,
            "width": null
          }
        },
        "71194dca78f944ada3c3f833da4f0184": {
          "model_module": "@jupyter-widgets/controls",
          "model_module_version": "1.5.0",
          "model_name": "FloatProgressModel",
          "state": {
            "_dom_classes": [],
            "_model_module": "@jupyter-widgets/controls",
            "_model_module_version": "1.5.0",
            "_model_name": "FloatProgressModel",
            "_view_count": null,
            "_view_module": "@jupyter-widgets/controls",
            "_view_module_version": "1.5.0",
            "_view_name": "ProgressView",
            "bar_style": "success",
            "description": "",
            "description_tooltip": null,
            "layout": "IPY_MODEL_661bc6ad08d04017af7f3d1d81a1e03c",
            "max": 28881,
            "min": 0,
            "orientation": "horizontal",
            "style": "IPY_MODEL_d2ee60932e58481abebdcd942cdb2f4a",
            "value": 28881
          }
        },
        "7591492ba70c474387f6fd9f716bdc14": {
          "model_module": "@jupyter-widgets/base",
          "model_module_version": "1.2.0",
          "model_name": "LayoutModel",
          "state": {
            "_model_module": "@jupyter-widgets/base",
            "_model_module_version": "1.2.0",
            "_model_name": "LayoutModel",
            "_view_count": null,
            "_view_module": "@jupyter-widgets/base",
            "_view_module_version": "1.2.0",
            "_view_name": "LayoutView",
            "align_content": null,
            "align_items": null,
            "align_self": null,
            "border": null,
            "bottom": null,
            "display": null,
            "flex": null,
            "flex_flow": null,
            "grid_area": null,
            "grid_auto_columns": null,
            "grid_auto_flow": null,
            "grid_auto_rows": null,
            "grid_column": null,
            "grid_gap": null,
            "grid_row": null,
            "grid_template_areas": null,
            "grid_template_columns": null,
            "grid_template_rows": null,
            "height": null,
            "justify_content": null,
            "justify_items": null,
            "left": null,
            "margin": null,
            "max_height": null,
            "max_width": null,
            "min_height": null,
            "min_width": null,
            "object_fit": null,
            "object_position": null,
            "order": null,
            "overflow": null,
            "overflow_x": null,
            "overflow_y": null,
            "padding": null,
            "right": null,
            "top": null,
            "visibility": null,
            "width": null
          }
        },
        "82e786906ae4497090377903d4534aee": {
          "model_module": "@jupyter-widgets/controls",
          "model_module_version": "1.5.0",
          "model_name": "FloatProgressModel",
          "state": {
            "_dom_classes": [],
            "_model_module": "@jupyter-widgets/controls",
            "_model_module_version": "1.5.0",
            "_model_name": "FloatProgressModel",
            "_view_count": null,
            "_view_module": "@jupyter-widgets/controls",
            "_view_module_version": "1.5.0",
            "_view_name": "ProgressView",
            "bar_style": "success",
            "description": "",
            "description_tooltip": null,
            "layout": "IPY_MODEL_7591492ba70c474387f6fd9f716bdc14",
            "max": 9912422,
            "min": 0,
            "orientation": "horizontal",
            "style": "IPY_MODEL_29487a66ae1c4c2bb3de015c13832766",
            "value": 9912422
          }
        },
        "8f3c12541d564b5d9b7ffd986b67df20": {
          "model_module": "@jupyter-widgets/controls",
          "model_module_version": "1.5.0",
          "model_name": "DescriptionStyleModel",
          "state": {
            "_model_module": "@jupyter-widgets/controls",
            "_model_module_version": "1.5.0",
            "_model_name": "DescriptionStyleModel",
            "_view_count": null,
            "_view_module": "@jupyter-widgets/base",
            "_view_module_version": "1.2.0",
            "_view_name": "StyleView",
            "description_width": ""
          }
        },
        "901ea6f357f24f859979ac49e05f7c24": {
          "model_module": "@jupyter-widgets/base",
          "model_module_version": "1.2.0",
          "model_name": "LayoutModel",
          "state": {
            "_model_module": "@jupyter-widgets/base",
            "_model_module_version": "1.2.0",
            "_model_name": "LayoutModel",
            "_view_count": null,
            "_view_module": "@jupyter-widgets/base",
            "_view_module_version": "1.2.0",
            "_view_name": "LayoutView",
            "align_content": null,
            "align_items": null,
            "align_self": null,
            "border": null,
            "bottom": null,
            "display": null,
            "flex": null,
            "flex_flow": null,
            "grid_area": null,
            "grid_auto_columns": null,
            "grid_auto_flow": null,
            "grid_auto_rows": null,
            "grid_column": null,
            "grid_gap": null,
            "grid_row": null,
            "grid_template_areas": null,
            "grid_template_columns": null,
            "grid_template_rows": null,
            "height": null,
            "justify_content": null,
            "justify_items": null,
            "left": null,
            "margin": null,
            "max_height": null,
            "max_width": null,
            "min_height": null,
            "min_width": null,
            "object_fit": null,
            "object_position": null,
            "order": null,
            "overflow": null,
            "overflow_x": null,
            "overflow_y": null,
            "padding": null,
            "right": null,
            "top": null,
            "visibility": null,
            "width": null
          }
        },
        "9463d40046514b638142ea290de8bc6d": {
          "model_module": "@jupyter-widgets/controls",
          "model_module_version": "1.5.0",
          "model_name": "DescriptionStyleModel",
          "state": {
            "_model_module": "@jupyter-widgets/controls",
            "_model_module_version": "1.5.0",
            "_model_name": "DescriptionStyleModel",
            "_view_count": null,
            "_view_module": "@jupyter-widgets/base",
            "_view_module_version": "1.2.0",
            "_view_name": "StyleView",
            "description_width": ""
          }
        },
        "953194b87ef3475da8fdf80ed1e9e5c9": {
          "model_module": "@jupyter-widgets/controls",
          "model_module_version": "1.5.0",
          "model_name": "DescriptionStyleModel",
          "state": {
            "_model_module": "@jupyter-widgets/controls",
            "_model_module_version": "1.5.0",
            "_model_name": "DescriptionStyleModel",
            "_view_count": null,
            "_view_module": "@jupyter-widgets/base",
            "_view_module_version": "1.2.0",
            "_view_name": "StyleView",
            "description_width": ""
          }
        },
        "990a9a18b6da405fa25f8c79324a5fe6": {
          "model_module": "@jupyter-widgets/controls",
          "model_module_version": "1.5.0",
          "model_name": "HBoxModel",
          "state": {
            "_dom_classes": [],
            "_model_module": "@jupyter-widgets/controls",
            "_model_module_version": "1.5.0",
            "_model_name": "HBoxModel",
            "_view_count": null,
            "_view_module": "@jupyter-widgets/controls",
            "_view_module_version": "1.5.0",
            "_view_name": "HBoxView",
            "box_style": "",
            "children": [
              "IPY_MODEL_0ab83bfc910a4e4b8977b4b09c345a3d",
              "IPY_MODEL_71194dca78f944ada3c3f833da4f0184",
              "IPY_MODEL_c45d6e818f9e45c1b1b1027d87761651"
            ],
            "layout": "IPY_MODEL_2a3b552f2b7a414d939e741aeb835508"
          }
        },
        "a1a63195b42449b5b03f88c63b69ab92": {
          "model_module": "@jupyter-widgets/controls",
          "model_module_version": "1.5.0",
          "model_name": "HBoxModel",
          "state": {
            "_dom_classes": [],
            "_model_module": "@jupyter-widgets/controls",
            "_model_module_version": "1.5.0",
            "_model_name": "HBoxModel",
            "_view_count": null,
            "_view_module": "@jupyter-widgets/controls",
            "_view_module_version": "1.5.0",
            "_view_name": "HBoxView",
            "box_style": "",
            "children": [
              "IPY_MODEL_b66e015837e645448abdddef704182ba",
              "IPY_MODEL_16fd391f2a194a74b7fc886829820589",
              "IPY_MODEL_2aae17a4d3fc4e9cb06d2996815b7627"
            ],
            "layout": "IPY_MODEL_f13a334d3e3543b897bb4973b346dced"
          }
        },
        "a676235b27dd466fb7d94059c6043e44": {
          "model_module": "@jupyter-widgets/controls",
          "model_module_version": "1.5.0",
          "model_name": "ProgressStyleModel",
          "state": {
            "_model_module": "@jupyter-widgets/controls",
            "_model_module_version": "1.5.0",
            "_model_name": "ProgressStyleModel",
            "_view_count": null,
            "_view_module": "@jupyter-widgets/base",
            "_view_module_version": "1.2.0",
            "_view_name": "StyleView",
            "bar_color": null,
            "description_width": ""
          }
        },
        "b66e015837e645448abdddef704182ba": {
          "model_module": "@jupyter-widgets/controls",
          "model_module_version": "1.5.0",
          "model_name": "HTMLModel",
          "state": {
            "_dom_classes": [],
            "_model_module": "@jupyter-widgets/controls",
            "_model_module_version": "1.5.0",
            "_model_name": "HTMLModel",
            "_view_count": null,
            "_view_module": "@jupyter-widgets/controls",
            "_view_module_version": "1.5.0",
            "_view_name": "HTMLView",
            "description": "",
            "description_tooltip": null,
            "layout": "IPY_MODEL_6a0674d20fb049eea1d166df531b91ed",
            "placeholder": "​",
            "style": "IPY_MODEL_1d8bf29123be4592a1f55b9cb2583ffb",
            "value": ""
          }
        },
        "b9433d3e182447bd8a73379dd56a2aee": {
          "model_module": "@jupyter-widgets/controls",
          "model_module_version": "1.5.0",
          "model_name": "DescriptionStyleModel",
          "state": {
            "_model_module": "@jupyter-widgets/controls",
            "_model_module_version": "1.5.0",
            "_model_name": "DescriptionStyleModel",
            "_view_count": null,
            "_view_module": "@jupyter-widgets/base",
            "_view_module_version": "1.2.0",
            "_view_name": "StyleView",
            "description_width": ""
          }
        },
        "bd73c013aa984eaf87b7c1553708bef9": {
          "model_module": "@jupyter-widgets/controls",
          "model_module_version": "1.5.0",
          "model_name": "HBoxModel",
          "state": {
            "_dom_classes": [],
            "_model_module": "@jupyter-widgets/controls",
            "_model_module_version": "1.5.0",
            "_model_name": "HBoxModel",
            "_view_count": null,
            "_view_module": "@jupyter-widgets/controls",
            "_view_module_version": "1.5.0",
            "_view_name": "HBoxView",
            "box_style": "",
            "children": [
              "IPY_MODEL_3646c6e31a1b4d1983c71dfc1ede238d",
              "IPY_MODEL_36cd6b7598d0441f847afd78390bc9f5",
              "IPY_MODEL_2b92f36a20b44548aea702770b852d7d"
            ],
            "layout": "IPY_MODEL_f193853e59ec412481b99b11e0bf2c8b"
          }
        },
        "c36121f1425a40e49f129728229bf669": {
          "model_module": "@jupyter-widgets/base",
          "model_module_version": "1.2.0",
          "model_name": "LayoutModel",
          "state": {
            "_model_module": "@jupyter-widgets/base",
            "_model_module_version": "1.2.0",
            "_model_name": "LayoutModel",
            "_view_count": null,
            "_view_module": "@jupyter-widgets/base",
            "_view_module_version": "1.2.0",
            "_view_name": "LayoutView",
            "align_content": null,
            "align_items": null,
            "align_self": null,
            "border": null,
            "bottom": null,
            "display": null,
            "flex": null,
            "flex_flow": null,
            "grid_area": null,
            "grid_auto_columns": null,
            "grid_auto_flow": null,
            "grid_auto_rows": null,
            "grid_column": null,
            "grid_gap": null,
            "grid_row": null,
            "grid_template_areas": null,
            "grid_template_columns": null,
            "grid_template_rows": null,
            "height": null,
            "justify_content": null,
            "justify_items": null,
            "left": null,
            "margin": null,
            "max_height": null,
            "max_width": null,
            "min_height": null,
            "min_width": null,
            "object_fit": null,
            "object_position": null,
            "order": null,
            "overflow": null,
            "overflow_x": null,
            "overflow_y": null,
            "padding": null,
            "right": null,
            "top": null,
            "visibility": null,
            "width": null
          }
        },
        "c45d6e818f9e45c1b1b1027d87761651": {
          "model_module": "@jupyter-widgets/controls",
          "model_module_version": "1.5.0",
          "model_name": "HTMLModel",
          "state": {
            "_dom_classes": [],
            "_model_module": "@jupyter-widgets/controls",
            "_model_module_version": "1.5.0",
            "_model_name": "HTMLModel",
            "_view_count": null,
            "_view_module": "@jupyter-widgets/controls",
            "_view_module_version": "1.5.0",
            "_view_name": "HTMLView",
            "description": "",
            "description_tooltip": null,
            "layout": "IPY_MODEL_0935dfe4dcb6451abd8904425312701a",
            "placeholder": "​",
            "style": "IPY_MODEL_dcde2085c1144b8ea12df4c9b0622f01",
            "value": " 29696/? [00:00&lt;00:00, 647272.77it/s]"
          }
        },
        "d2ee60932e58481abebdcd942cdb2f4a": {
          "model_module": "@jupyter-widgets/controls",
          "model_module_version": "1.5.0",
          "model_name": "ProgressStyleModel",
          "state": {
            "_model_module": "@jupyter-widgets/controls",
            "_model_module_version": "1.5.0",
            "_model_name": "ProgressStyleModel",
            "_view_count": null,
            "_view_module": "@jupyter-widgets/base",
            "_view_module_version": "1.2.0",
            "_view_name": "StyleView",
            "bar_color": null,
            "description_width": ""
          }
        },
        "d6c3bf32529b41d2b3dbdccbb49d4cf4": {
          "model_module": "@jupyter-widgets/base",
          "model_module_version": "1.2.0",
          "model_name": "LayoutModel",
          "state": {
            "_model_module": "@jupyter-widgets/base",
            "_model_module_version": "1.2.0",
            "_model_name": "LayoutModel",
            "_view_count": null,
            "_view_module": "@jupyter-widgets/base",
            "_view_module_version": "1.2.0",
            "_view_name": "LayoutView",
            "align_content": null,
            "align_items": null,
            "align_self": null,
            "border": null,
            "bottom": null,
            "display": null,
            "flex": null,
            "flex_flow": null,
            "grid_area": null,
            "grid_auto_columns": null,
            "grid_auto_flow": null,
            "grid_auto_rows": null,
            "grid_column": null,
            "grid_gap": null,
            "grid_row": null,
            "grid_template_areas": null,
            "grid_template_columns": null,
            "grid_template_rows": null,
            "height": null,
            "justify_content": null,
            "justify_items": null,
            "left": null,
            "margin": null,
            "max_height": null,
            "max_width": null,
            "min_height": null,
            "min_width": null,
            "object_fit": null,
            "object_position": null,
            "order": null,
            "overflow": null,
            "overflow_x": null,
            "overflow_y": null,
            "padding": null,
            "right": null,
            "top": null,
            "visibility": null,
            "width": null
          }
        },
        "d75ff9c593944f64a1e800cc3887aa0d": {
          "model_module": "@jupyter-widgets/base",
          "model_module_version": "1.2.0",
          "model_name": "LayoutModel",
          "state": {
            "_model_module": "@jupyter-widgets/base",
            "_model_module_version": "1.2.0",
            "_model_name": "LayoutModel",
            "_view_count": null,
            "_view_module": "@jupyter-widgets/base",
            "_view_module_version": "1.2.0",
            "_view_name": "LayoutView",
            "align_content": null,
            "align_items": null,
            "align_self": null,
            "border": null,
            "bottom": null,
            "display": null,
            "flex": null,
            "flex_flow": null,
            "grid_area": null,
            "grid_auto_columns": null,
            "grid_auto_flow": null,
            "grid_auto_rows": null,
            "grid_column": null,
            "grid_gap": null,
            "grid_row": null,
            "grid_template_areas": null,
            "grid_template_columns": null,
            "grid_template_rows": null,
            "height": null,
            "justify_content": null,
            "justify_items": null,
            "left": null,
            "margin": null,
            "max_height": null,
            "max_width": null,
            "min_height": null,
            "min_width": null,
            "object_fit": null,
            "object_position": null,
            "order": null,
            "overflow": null,
            "overflow_x": null,
            "overflow_y": null,
            "padding": null,
            "right": null,
            "top": null,
            "visibility": null,
            "width": null
          }
        },
        "dcde2085c1144b8ea12df4c9b0622f01": {
          "model_module": "@jupyter-widgets/controls",
          "model_module_version": "1.5.0",
          "model_name": "DescriptionStyleModel",
          "state": {
            "_model_module": "@jupyter-widgets/controls",
            "_model_module_version": "1.5.0",
            "_model_name": "DescriptionStyleModel",
            "_view_count": null,
            "_view_module": "@jupyter-widgets/base",
            "_view_module_version": "1.2.0",
            "_view_name": "StyleView",
            "description_width": ""
          }
        },
        "e92fbab7bbbf426b8695d575d423ed68": {
          "model_module": "@jupyter-widgets/base",
          "model_module_version": "1.2.0",
          "model_name": "LayoutModel",
          "state": {
            "_model_module": "@jupyter-widgets/base",
            "_model_module_version": "1.2.0",
            "_model_name": "LayoutModel",
            "_view_count": null,
            "_view_module": "@jupyter-widgets/base",
            "_view_module_version": "1.2.0",
            "_view_name": "LayoutView",
            "align_content": null,
            "align_items": null,
            "align_self": null,
            "border": null,
            "bottom": null,
            "display": null,
            "flex": null,
            "flex_flow": null,
            "grid_area": null,
            "grid_auto_columns": null,
            "grid_auto_flow": null,
            "grid_auto_rows": null,
            "grid_column": null,
            "grid_gap": null,
            "grid_row": null,
            "grid_template_areas": null,
            "grid_template_columns": null,
            "grid_template_rows": null,
            "height": null,
            "justify_content": null,
            "justify_items": null,
            "left": null,
            "margin": null,
            "max_height": null,
            "max_width": null,
            "min_height": null,
            "min_width": null,
            "object_fit": null,
            "object_position": null,
            "order": null,
            "overflow": null,
            "overflow_x": null,
            "overflow_y": null,
            "padding": null,
            "right": null,
            "top": null,
            "visibility": null,
            "width": null
          }
        },
        "f13a334d3e3543b897bb4973b346dced": {
          "model_module": "@jupyter-widgets/base",
          "model_module_version": "1.2.0",
          "model_name": "LayoutModel",
          "state": {
            "_model_module": "@jupyter-widgets/base",
            "_model_module_version": "1.2.0",
            "_model_name": "LayoutModel",
            "_view_count": null,
            "_view_module": "@jupyter-widgets/base",
            "_view_module_version": "1.2.0",
            "_view_name": "LayoutView",
            "align_content": null,
            "align_items": null,
            "align_self": null,
            "border": null,
            "bottom": null,
            "display": null,
            "flex": null,
            "flex_flow": null,
            "grid_area": null,
            "grid_auto_columns": null,
            "grid_auto_flow": null,
            "grid_auto_rows": null,
            "grid_column": null,
            "grid_gap": null,
            "grid_row": null,
            "grid_template_areas": null,
            "grid_template_columns": null,
            "grid_template_rows": null,
            "height": null,
            "justify_content": null,
            "justify_items": null,
            "left": null,
            "margin": null,
            "max_height": null,
            "max_width": null,
            "min_height": null,
            "min_width": null,
            "object_fit": null,
            "object_position": null,
            "order": null,
            "overflow": null,
            "overflow_x": null,
            "overflow_y": null,
            "padding": null,
            "right": null,
            "top": null,
            "visibility": null,
            "width": null
          }
        },
        "f193853e59ec412481b99b11e0bf2c8b": {
          "model_module": "@jupyter-widgets/base",
          "model_module_version": "1.2.0",
          "model_name": "LayoutModel",
          "state": {
            "_model_module": "@jupyter-widgets/base",
            "_model_module_version": "1.2.0",
            "_model_name": "LayoutModel",
            "_view_count": null,
            "_view_module": "@jupyter-widgets/base",
            "_view_module_version": "1.2.0",
            "_view_name": "LayoutView",
            "align_content": null,
            "align_items": null,
            "align_self": null,
            "border": null,
            "bottom": null,
            "display": null,
            "flex": null,
            "flex_flow": null,
            "grid_area": null,
            "grid_auto_columns": null,
            "grid_auto_flow": null,
            "grid_auto_rows": null,
            "grid_column": null,
            "grid_gap": null,
            "grid_row": null,
            "grid_template_areas": null,
            "grid_template_columns": null,
            "grid_template_rows": null,
            "height": null,
            "justify_content": null,
            "justify_items": null,
            "left": null,
            "margin": null,
            "max_height": null,
            "max_width": null,
            "min_height": null,
            "min_width": null,
            "object_fit": null,
            "object_position": null,
            "order": null,
            "overflow": null,
            "overflow_x": null,
            "overflow_y": null,
            "padding": null,
            "right": null,
            "top": null,
            "visibility": null,
            "width": null
          }
        },
        "f7aa837786ff458dbf1ecc12570a399a": {
          "model_module": "@jupyter-widgets/base",
          "model_module_version": "1.2.0",
          "model_name": "LayoutModel",
          "state": {
            "_model_module": "@jupyter-widgets/base",
            "_model_module_version": "1.2.0",
            "_model_name": "LayoutModel",
            "_view_count": null,
            "_view_module": "@jupyter-widgets/base",
            "_view_module_version": "1.2.0",
            "_view_name": "LayoutView",
            "align_content": null,
            "align_items": null,
            "align_self": null,
            "border": null,
            "bottom": null,
            "display": null,
            "flex": null,
            "flex_flow": null,
            "grid_area": null,
            "grid_auto_columns": null,
            "grid_auto_flow": null,
            "grid_auto_rows": null,
            "grid_column": null,
            "grid_gap": null,
            "grid_row": null,
            "grid_template_areas": null,
            "grid_template_columns": null,
            "grid_template_rows": null,
            "height": null,
            "justify_content": null,
            "justify_items": null,
            "left": null,
            "margin": null,
            "max_height": null,
            "max_width": null,
            "min_height": null,
            "min_width": null,
            "object_fit": null,
            "object_position": null,
            "order": null,
            "overflow": null,
            "overflow_x": null,
            "overflow_y": null,
            "padding": null,
            "right": null,
            "top": null,
            "visibility": null,
            "width": null
          }
        }
      }
    }
  },
  "nbformat": 4,
  "nbformat_minor": 0
}
