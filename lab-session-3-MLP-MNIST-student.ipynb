{
  "cells": [
    {
      "cell_type": "markdown",
      "metadata": {
        "id": "mE2F5Cj5X-cq"
      },
      "source": [
        "# Lab session 3 | Multi-Layer Perceptron (MLP) with pytorch\n",
        "\n",
        "pierre-henri.conze@imt-atlantique.fr \\\\\n",
        "francois.rousseau@imt-atlantique.fr \\\\\n",
        "simon.benaichouche@imt-atlantique.fr \\\\\n",
        "aurelien.colin@imt-atlantique.fr\n",
        "\n",
        "---\n",
        "\n"
      ]
    },
    {
      "cell_type": "markdown",
      "metadata": {
        "id": "aZNAqdzCX-cs"
      },
      "source": [
        "## Objective of this lab session: use a multiple layer perceptron to process the MNIST dataset.\n",
        "\n",
        "\n",
        "**MNIST** is a computer vision dataset. It consists of images of handwritten digits. It also includes labels for each image, telling us which digit it is. In this lab session, we're going to train **Multi-Layer Perceptron** (MLP) models to look at images and predict to which digit they belong."
      ]
    },
    {
      "cell_type": "markdown",
      "metadata": {
        "id": "85qr0BEYX-cu"
      },
      "source": [
        "### 1- Download MNIST dataset\n",
        "\n",
        "First, start with these lines of code which will automatically download the MNIST dataset."
      ]
    },
    {
      "cell_type": "code",
      "execution_count": 1,
      "metadata": {
        "colab": {
          "base_uri": "https://localhost:8080/",
          "height": 466,
          "referenced_widgets": [
            "3295f526c8824f76af02e01269e2bebc",
            "eb2aaa3e0c954215b176faaa7e33ce4e",
            "677628ac4cd7417fa4976529dcb034f6",
            "b99e5f9353b64259a2c92e7c4b3b26f4",
            "1138b44b05c34e53a9bcb5eb36fcea85",
            "e9d66cbbe3184527948eeb0d59a118d0",
            "9b58f543d42544e39144370ad08dcc23",
            "7e2cd542ef7e4e1287f1595dc23b35d2",
            "7c0322141d274ea6a3173c40653c5460",
            "fe7f542b91d2442397b4d7635bb78e17",
            "8fcc9c44a7884702a2231dfe7454fb35",
            "0b67518050c549588e0fdd2d5fef6d68",
            "f1284eef17e14d208446b493ba063dc0",
            "06a54d6c20e84d66903c4bad4e37353f",
            "9d275b977a574a16b9ef10d447b17c71",
            "3c87481a14dd405fb85d26699f1e6606",
            "2ac30f4ab1c449649695edd7139e5de8",
            "e378f14244fe4297a52a4ecb539cf631",
            "a58a8d083f0e48ac82f5dc473c59e59f",
            "8ab9d85d9cd942b8a0141eeff1752d84",
            "2ccbed598b5a413580e83bc8c6bf51b1",
            "0360e3616c2541ac811a8a73a50dd6a4",
            "58e8351b646e4443a633dc889356fe99",
            "7904c826b19549d190ac8e6358118f72",
            "57a35c7ce6f54a26a7331926fe64516c",
            "05469e45bc964b2ba796bde63faeb864",
            "229b63556ec0435596a6be157ce56dc1",
            "3efe51ddde514aaa839eb649afdf23bb",
            "3f9b8bb9078447c68d1d5a691fcceae0",
            "3f4744c8a4a749b4b934bd3718d2e0b0",
            "c6f7ae51bd524bed9f75f602a7cd4e39",
            "a477a258f7604dfca33d68090eb77703",
            "76ac112b11c14ae38584885edda77d4b",
            "e0f7649474974e248d0c5f210083b552",
            "f178d61589f44421855d03675e466ddc",
            "6e7e2313564e42189a635ac1ec9b205e",
            "a7893667c0054e1e940cb49b9e2d0c4d",
            "c7f768f7c02e475da080a7fb4cb77422",
            "d110512e88ce4b9c9b0af04c66f30a30",
            "92b9f9f0409744538c830749712c05ca",
            "60bc259e88924065939480a5df70f839",
            "a178994b3fbf450cb53bdb5b54ef08eb",
            "54c8d808bf5f486aa730f3158c37f1c5",
            "fc94d698c4b046b898b392d26101314f"
          ]
        },
        "id": "W6fsgjPOX-cv",
        "outputId": "7c423931-0837-4619-f07c-122a90a0786d"
      },
      "outputs": [
        {
          "output_type": "stream",
          "name": "stdout",
          "text": [
            "Downloading http://yann.lecun.com/exdb/mnist/train-images-idx3-ubyte.gz\n",
            "Downloading http://yann.lecun.com/exdb/mnist/train-images-idx3-ubyte.gz to data/MNIST/raw/train-images-idx3-ubyte.gz\n"
          ]
        },
        {
          "output_type": "display_data",
          "data": {
            "application/vnd.jupyter.widget-view+json": {
              "model_id": "3295f526c8824f76af02e01269e2bebc",
              "version_minor": 0,
              "version_major": 2
            },
            "text/plain": [
              "  0%|          | 0/9912422 [00:00<?, ?it/s]"
            ]
          },
          "metadata": {}
        },
        {
          "output_type": "stream",
          "name": "stdout",
          "text": [
            "Extracting data/MNIST/raw/train-images-idx3-ubyte.gz to data/MNIST/raw\n",
            "\n",
            "Downloading http://yann.lecun.com/exdb/mnist/train-labels-idx1-ubyte.gz\n",
            "Downloading http://yann.lecun.com/exdb/mnist/train-labels-idx1-ubyte.gz to data/MNIST/raw/train-labels-idx1-ubyte.gz\n"
          ]
        },
        {
          "output_type": "display_data",
          "data": {
            "application/vnd.jupyter.widget-view+json": {
              "model_id": "0b67518050c549588e0fdd2d5fef6d68",
              "version_minor": 0,
              "version_major": 2
            },
            "text/plain": [
              "  0%|          | 0/28881 [00:00<?, ?it/s]"
            ]
          },
          "metadata": {}
        },
        {
          "output_type": "stream",
          "name": "stdout",
          "text": [
            "Extracting data/MNIST/raw/train-labels-idx1-ubyte.gz to data/MNIST/raw\n",
            "\n",
            "Downloading http://yann.lecun.com/exdb/mnist/t10k-images-idx3-ubyte.gz\n",
            "Downloading http://yann.lecun.com/exdb/mnist/t10k-images-idx3-ubyte.gz to data/MNIST/raw/t10k-images-idx3-ubyte.gz\n"
          ]
        },
        {
          "output_type": "display_data",
          "data": {
            "application/vnd.jupyter.widget-view+json": {
              "model_id": "58e8351b646e4443a633dc889356fe99",
              "version_minor": 0,
              "version_major": 2
            },
            "text/plain": [
              "  0%|          | 0/1648877 [00:00<?, ?it/s]"
            ]
          },
          "metadata": {}
        },
        {
          "output_type": "stream",
          "name": "stdout",
          "text": [
            "Extracting data/MNIST/raw/t10k-images-idx3-ubyte.gz to data/MNIST/raw\n",
            "\n",
            "Downloading http://yann.lecun.com/exdb/mnist/t10k-labels-idx1-ubyte.gz\n",
            "Downloading http://yann.lecun.com/exdb/mnist/t10k-labels-idx1-ubyte.gz to data/MNIST/raw/t10k-labels-idx1-ubyte.gz\n"
          ]
        },
        {
          "output_type": "display_data",
          "data": {
            "application/vnd.jupyter.widget-view+json": {
              "model_id": "e0f7649474974e248d0c5f210083b552",
              "version_minor": 0,
              "version_major": 2
            },
            "text/plain": [
              "  0%|          | 0/4542 [00:00<?, ?it/s]"
            ]
          },
          "metadata": {}
        },
        {
          "output_type": "stream",
          "name": "stdout",
          "text": [
            "Extracting data/MNIST/raw/t10k-labels-idx1-ubyte.gz to data/MNIST/raw\n",
            "\n",
            "number of training data: 60000 \n",
            "number of test data: 10000\n"
          ]
        }
      ],
      "source": [
        "from torchvision import datasets\n",
        "import torchvision.transforms as transforms\n",
        "\n",
        "transform = transforms.ToTensor() # convert data to torch.FloatTensor\n",
        "\n",
        "train_data = datasets.MNIST(root = 'data', train = True, download = True, transform = transform)\n",
        "test_data = datasets.MNIST(root = 'data', train = False, download = True, transform = transform)\n",
        "\n",
        "num_train, num_test = len(train_data), len(test_data)\n",
        "print('number of training data:', num_train, '\\n'+'number of test data:', num_test)"
      ]
    },
    {
      "cell_type": "markdown",
      "metadata": {
        "id": "Wl7qqo-045pO"
      },
      "source": [
        "The MNIST dataset is split into two parts: 60,000 samples for training, 10,000 samples for test. Both training set test sets contain images and their corresponding labels."
      ]
    },
    {
      "cell_type": "markdown",
      "metadata": {
        "id": "FQKjqImJ4mKx"
      },
      "source": [
        "The following cell creates a **data loader** (DataLoader, [documentation](https://pytorch.org/docs/stable/data.html)) for the test set."
      ]
    },
    {
      "cell_type": "code",
      "execution_count": 2,
      "metadata": {
        "id": "Ho-I57ync1Ya"
      },
      "outputs": [],
      "source": [
        "import torch\n",
        "\n",
        "batch_size = 20 # how many samples per batch to load\n",
        "test_loader = torch.utils.data.DataLoader(test_data, batch_size = batch_size)"
      ]
    },
    {
      "cell_type": "markdown",
      "metadata": {
        "id": "18G47IQQX-c3"
      },
      "source": [
        "### 2- Data visualization\n",
        "\n",
        "The first thing to do in a classification task is to take a **look at the data**, make sure that it has been correctly loaded in, then make any initial observations about patterns in that data. The next cell allows to visualize images from the test set with corresponding ground truth labels."
      ]
    },
    {
      "cell_type": "code",
      "execution_count": 3,
      "metadata": {
        "colab": {
          "base_uri": "https://localhost:8080/",
          "height": 225
        },
        "id": "arAFBf_q0K3p",
        "outputId": "c66bc7d0-9723-4611-ebf0-b439eb4126f8"
      },
      "outputs": [
        {
          "output_type": "display_data",
          "data": {
            "image/png": "[encoded data removed]",
            "text/plain": [
              "<Figure size 1800x288 with 20 Axes>"
            ]
          },
          "metadata": {}
        }
      ],
      "source": [
        "import matplotlib.pyplot as plt\n",
        "import numpy as np\n",
        "%matplotlib inline\n",
        "\n",
        "data_iter = iter(test_loader) \n",
        "images, labels = data_iter.next() # obtain one batch from the test set\n",
        "images = images.numpy()\n",
        "# plot images in the batch, along with the corresponding labels\n",
        "fig = plt.figure(figsize=(25, 4))\n",
        "for idx in np.arange(20):\n",
        "    ax = fig.add_subplot(2, 10, idx+1, xticks=[], yticks=[])\n",
        "    ax.imshow(np.squeeze(images[idx]), cmap='gray') # .npsqueeze removes single-dimensional entries from the shape of an array\n",
        "    ax.set_title(str(labels[idx].item())) # .item() gets the value contained in a Tensor"
      ]
    },
    {
      "cell_type": "markdown",
      "metadata": {
        "id": "BO-rPwr05H2L"
      },
      "source": [
        "Every image in MNIST is of a handwritten digit between zero and nine. Let us view one of these images with more details:"
      ]
    },
    {
      "cell_type": "code",
      "execution_count": 4,
      "metadata": {
        "colab": {
          "base_uri": "https://localhost:8080/",
          "height": 592
        },
        "id": "dZEH94l05Ids",
        "outputId": "68cc5316-cef6-4835-e5ec-2a0144805b52"
      },
      "outputs": [
        {
          "output_type": "display_data",
          "data": {
            "image/png": "[encoded data removed]",
            "text/plain": [
              "<Figure size 720x720 with 1 Axes>"
            ]
          },
          "metadata": {
            "needs_background": "light"
          }
        }
      ],
      "source": [
        "img = np.squeeze(images[1])\n",
        "fig = plt.figure(figsize = (10,10)) \n",
        "ax = fig.add_subplot(111)\n",
        "ax.imshow(img, cmap='gray')\n",
        "width, height = img.shape\n",
        "thresh = img.max()/2.5\n",
        "for x in range(width):\n",
        "    for y in range(height):\n",
        "        val = round(img[x][y],1) if img[x][y] !=0 else 0\n",
        "        ax.annotate(str(val), xy=(y,x), horizontalalignment='center', verticalalignment='center', color='white' if img[x][y]<thresh else 'black')"
      ]
    },
    {
      "cell_type": "markdown",
      "metadata": {
        "id": "HA1W3RtT5hnv"
      },
      "source": [
        "Each image is 28 pixels by 28 pixels. Image intensities are normalized between 0 and 1."
      ]
    },
    {
      "cell_type": "markdown",
      "metadata": {
        "id": "oXXkFECRnxFi"
      },
      "source": [
        "### 3- Is my network generalizing well?\n",
        "\n",
        "It's essential in machine (or deep) learning to consider validation/test sets which will not be used for training such that we can be sure that what we have learned through the network actually generalizes!\n",
        "\n",
        "In practice, we will extract from the training set a subset (20% of training set) for **validation** purposes."
      ]
    },
    {
      "cell_type": "code",
      "execution_count": 5,
      "metadata": {
        "id": "pAZK2_NuDbK3"
      },
      "outputs": [],
      "source": [
        "from torch.utils.data.sampler import SubsetRandomSampler\n",
        "\n",
        "valid_size = 0.2 # percentage of training set to use as validation\n",
        "\n",
        "# obtain training indices that will be used for validation\n",
        "indices = list(range(num_train))\n",
        "np.random.shuffle(indices)\n",
        "split = int(np.floor(valid_size * num_train))\n",
        "train_index, valid_index = indices[split:], indices[:split]\n",
        "\n",
        "# define samplers for obtaining training and validation batches\n",
        "train_sampler = SubsetRandomSampler(train_index)\n",
        "valid_sampler = SubsetRandomSampler(valid_index)\n",
        "\n",
        "# prepare data loaders\n",
        "train_loader = torch.utils.data.DataLoader(train_data, batch_size = batch_size, sampler = train_sampler)\n",
        "valid_loader = torch.utils.data.DataLoader(train_data, batch_size = batch_size, sampler = valid_sampler)"
      ]
    },
    {
      "cell_type": "markdown",
      "metadata": {
        "id": "P9vqCd8jpJnE"
      },
      "source": [
        "### 4- Simple MLP architecture\n",
        "\n",
        "Let us define a simple **network architecture**. The network will take as inputs 784-dimensional tensors of pixel values from each image (28x28=784). It will produce as output a tensor of length 10 (i.e. the number of classes) that indicates the class scores for each input image. "
      ]
    },
    {
      "cell_type": "markdown",
      "metadata": {
        "id": "897aqt3UyfHz"
      },
      "source": [
        "In this first network architecture (*Net1*), we will employ a single hidden layer with 10 neurons."
      ]
    },
    {
      "cell_type": "code",
      "execution_count": 6,
      "metadata": {
        "id": "4lLiWMnC5jBy"
      },
      "outputs": [],
      "source": [
        "import torch.nn as nn\n",
        "import torch.nn.functional as F\n",
        "\n",
        "class Net1(nn.Module):\n",
        "\n",
        "    def __init__(self):\n",
        "        super(Net1,self).__init__()\n",
        "        self.fc1 = nn.Linear(28*28, 10) # linear layer (784 -> 10)\n",
        "        \n",
        "    def forward(self,x):\n",
        "        x = x.view(-1,28*28) # flatten input image\n",
        "        x = self.fc1(x)\n",
        "        return x"
      ]
    },
    {
      "cell_type": "markdown",
      "metadata": {
        "id": "GnJCZtJ9x-wA"
      },
      "source": [
        "For a given image, we aim at computing the probabilities for each digit through a softmax regression model $ y = softmax(Wx+b)$ where *softmax* is the normalized exponential function."
      ]
    },
    {
      "cell_type": "code",
      "execution_count": 7,
      "metadata": {
        "colab": {
          "base_uri": "https://localhost:8080/"
        },
        "id": "OFwVrc_XT3cs",
        "outputId": "7ed1e93c-7a8f-4a1e-f3fa-79336ed4e38a"
      },
      "outputs": [
        {
          "output_type": "stream",
          "name": "stdout",
          "text": [
            "Using device cuda\n"
          ]
        }
      ],
      "source": [
        "device = torch.device('cuda' if torch.cuda.is_available() else 'cpu')\n",
        "print('Using device '+str(device))"
      ]
    },
    {
      "cell_type": "markdown",
      "metadata": {
        "id": "bo_8WGGk5F31"
      },
      "source": [
        "Let us **initialize** the neural network."
      ]
    },
    {
      "cell_type": "code",
      "execution_count": 8,
      "metadata": {
        "colab": {
          "base_uri": "https://localhost:8080/"
        },
        "id": "JbdKfY3h-wAy",
        "outputId": "3ccd2461-c30c-489b-8fe8-cdd92ddf2d5c"
      },
      "outputs": [
        {
          "output_type": "execute_result",
          "data": {
            "text/plain": [
              "Net1(\n",
              "  (fc1): Linear(in_features=784, out_features=10, bias=True)\n",
              ")"
            ]
          },
          "metadata": {},
          "execution_count": 8
        }
      ],
      "source": [
        "model_1 = Net1() # initialize the neural network\n",
        "model_1.to(device=device)"
      ]
    },
    {
      "cell_type": "markdown",
      "metadata": {
        "id": "eq3-Q0ZtyL0P"
      },
      "source": [
        "### 5- Loss function and optimizer\n",
        "\n",
        "Now, We have to specify the **loss function**. We try to minimize that error: the smaller the error margin, the better our model. In this lab session, the cross-entropy is used as loss function:\n",
        "\n",
        "$$H_{y}(z) = - \\sum_i y_i \\log(z_i)$$\n",
        "\n",
        "where $z$ is our predicted probability distribution, and $y$ is the true distribution. If you look at the [documentation](https://pytorch.org/docs/stable/generated/torch.nn.CrossEntropyLoss.html), you can see that PyTorch’s cross entropy function applies a *softmax* funtion to the output layer and then calculates the log loss."
      ]
    },
    {
      "cell_type": "code",
      "execution_count": 9,
      "metadata": {
        "id": "BeZr3uLL58Qw"
      },
      "outputs": [],
      "source": [
        "criterion = nn.CrossEntropyLoss() # specify loss function (categorical cross-entropy)"
      ]
    },
    {
      "cell_type": "markdown",
      "metadata": {
        "id": "iP16MCJD03wD"
      },
      "source": [
        "We also need to specify the **optimization** algorithm that will be used to minimized the loss function. Here, we will use a standard stochastic gradient descent (SGD). Many other optimization strategies can be emloyed ([documentation](https://pytorch.org/docs/stable/optim.html))."
      ]
    },
    {
      "cell_type": "code",
      "execution_count": 10,
      "metadata": {
        "id": "z_IkVZB-01tJ"
      },
      "outputs": [],
      "source": [
        "optimizer = torch.optim.SGD(model_1.parameters(),lr = 0.01) # specify optimizer (stochastic gradient descent) and learning rate"
      ]
    },
    {
      "cell_type": "markdown",
      "metadata": {
        "id": "dxYFf5sG0_XC"
      },
      "source": [
        "### 6- Network training\n",
        "\n",
        "Let us train the network defined above. Each step is described in the comments below."
      ]
    },
    {
      "cell_type": "code",
      "execution_count": 11,
      "metadata": {
        "id": "TbGZO4wt6jTR"
      },
      "outputs": [],
      "source": [
        "n_epochs = 15 # number of epochs to train the model\n",
        "\n",
        "def training(n_epochs, train_loader, valid_loader, model, criterion, optimizer):\n",
        "\n",
        "  train_losses, valid_losses = [], []\n",
        "  # initialize tracker for minimum validation loss\n",
        "  valid_loss_min = np.Inf  # set initial \"min\" to infinity\n",
        "\n",
        "  for epoch in range(n_epochs):\n",
        "      train_loss, valid_loss = 0, 0 # monitor losses\n",
        "      \n",
        "      # train the model\n",
        "      model.train() # prep model for training\n",
        "      for data, label in train_loader:\n",
        "          data = data.to(device=device, dtype=torch.float32)\n",
        "          label = label.to(device=device, dtype=torch.long)\n",
        "          optimizer.zero_grad() # clear the gradients of all optimized variables\n",
        "          output = model(data) # forward pass: compute predicted outputs by passing inputs to the model\n",
        "          loss = criterion(output, label) # calculate the loss\n",
        "          loss.backward() # backward pass: compute gradient of the loss with respect to model parameters\n",
        "          optimizer.step() # perform a single optimization step (parameter update)\n",
        "          train_loss += loss.item() * data.size(0) # update running training loss\n",
        "      \n",
        "      # validate the model\n",
        "      model.eval()\n",
        "      for data, label in valid_loader:\n",
        "          data = data.to(device=device, dtype=torch.float32)\n",
        "          label = label.to(device=device, dtype=torch.long)\n",
        "          with torch.no_grad():\n",
        "              output = model(data)\n",
        "          loss = criterion(output,label)\n",
        "          valid_loss += loss.item() * data.size(0)\n",
        "      \n",
        "      # calculate average loss over an epoch\n",
        "      train_loss /= len(train_loader.sampler)\n",
        "      valid_loss /= len(valid_loader.sampler)\n",
        "      train_losses.append(train_loss)\n",
        "      valid_losses.append(valid_loss)\n",
        "      \n",
        "      print('epoch: {} \\ttraining Loss: {:.6f} \\tvalidation Loss: {:.6f}'.format(epoch+1, train_loss, valid_loss))\n",
        "\n",
        "      # save model if validation loss has decreased\n",
        "      if valid_loss <= valid_loss_min:\n",
        "          print('validation loss decreased ({:.6f} --> {:.6f}).  Saving model ...'.format(\n",
        "          valid_loss_min,\n",
        "          valid_loss))\n",
        "          torch.save(model.state_dict(), 'model.pt')\n",
        "          valid_loss_min = valid_loss\n",
        "      \n",
        "  return train_losses, valid_losses      "
      ]
    },
    {
      "cell_type": "markdown",
      "metadata": {
        "id": "eFVXs_h4HR6s"
      },
      "source": [
        "Labels as considered as **one-hot vectors**. A one-hot vector is a vector which is 0 in most dimensions, and 1 in a single dimension. In this case, the n$^{th}$ digit is represented as a vector which is 1 in the n$^{th}$ dimension. For example, label 3 corresponds to: [0,0,0,1,0,0,0,0,0,0]. "
      ]
    },
    {
      "cell_type": "code",
      "execution_count": 12,
      "metadata": {
        "colab": {
          "base_uri": "https://localhost:8080/"
        },
        "id": "fulupe2f71cJ",
        "outputId": "fb26d37e-188a-4b3b-8a87-cd36c60018a7"
      },
      "outputs": [
        {
          "output_type": "stream",
          "name": "stdout",
          "text": [
            "epoch: 1 \ttraining Loss: 0.708030 \tvalidation Loss: 0.467752\n",
            "validation loss decreased (inf --> 0.467752).  Saving model ...\n",
            "epoch: 2 \ttraining Loss: 0.428463 \tvalidation Loss: 0.398475\n",
            "validation loss decreased (0.467752 --> 0.398475).  Saving model ...\n",
            "epoch: 3 \ttraining Loss: 0.382903 \tvalidation Loss: 0.369746\n",
            "validation loss decreased (0.398475 --> 0.369746).  Saving model ...\n",
            "epoch: 4 \ttraining Loss: 0.359695 \tvalidation Loss: 0.352703\n",
            "validation loss decreased (0.369746 --> 0.352703).  Saving model ...\n",
            "epoch: 5 \ttraining Loss: 0.344664 \tvalidation Loss: 0.342682\n",
            "validation loss decreased (0.352703 --> 0.342682).  Saving model ...\n",
            "epoch: 6 \ttraining Loss: 0.334291 \tvalidation Loss: 0.333778\n",
            "validation loss decreased (0.342682 --> 0.333778).  Saving model ...\n",
            "epoch: 7 \ttraining Loss: 0.326232 \tvalidation Loss: 0.327399\n",
            "validation loss decreased (0.333778 --> 0.327399).  Saving model ...\n",
            "epoch: 8 \ttraining Loss: 0.319630 \tvalidation Loss: 0.323285\n",
            "validation loss decreased (0.327399 --> 0.323285).  Saving model ...\n",
            "epoch: 9 \ttraining Loss: 0.314417 \tvalidation Loss: 0.319163\n",
            "validation loss decreased (0.323285 --> 0.319163).  Saving model ...\n",
            "epoch: 10 \ttraining Loss: 0.310044 \tvalidation Loss: 0.316001\n",
            "validation loss decreased (0.319163 --> 0.316001).  Saving model ...\n",
            "epoch: 11 \ttraining Loss: 0.306184 \tvalidation Loss: 0.312402\n",
            "validation loss decreased (0.316001 --> 0.312402).  Saving model ...\n",
            "epoch: 12 \ttraining Loss: 0.302750 \tvalidation Loss: 0.309745\n",
            "validation loss decreased (0.312402 --> 0.309745).  Saving model ...\n",
            "epoch: 13 \ttraining Loss: 0.299784 \tvalidation Loss: 0.307942\n",
            "validation loss decreased (0.309745 --> 0.307942).  Saving model ...\n",
            "epoch: 14 \ttraining Loss: 0.297185 \tvalidation Loss: 0.306172\n",
            "validation loss decreased (0.307942 --> 0.306172).  Saving model ...\n",
            "epoch: 15 \ttraining Loss: 0.294771 \tvalidation Loss: 0.304717\n",
            "validation loss decreased (0.306172 --> 0.304717).  Saving model ...\n"
          ]
        }
      ],
      "source": [
        "train_losses_1, valid_losses_1 = training(n_epochs, train_loader, valid_loader, model_1, criterion, optimizer)"
      ]
    },
    {
      "cell_type": "markdown",
      "metadata": {
        "id": "twmMCMSz1NoN"
      },
      "source": [
        "### 7- Convergence\n",
        "\n",
        "To study the **convergence** of the training process, we plot the evolution of the loss function for both training and validation sets with respect to epochs."
      ]
    },
    {
      "cell_type": "code",
      "execution_count": 13,
      "metadata": {
        "colab": {
          "base_uri": "https://localhost:8080/",
          "height": 311
        },
        "id": "HpT1Y7cNBA5F",
        "outputId": "8eebab18-db70-4fc7-d483-46d6f46d63af"
      },
      "outputs": [
        {
          "output_type": "execute_result",
          "data": {
            "text/plain": [
              "Text(0, 0.5, 'loss value')"
            ]
          },
          "metadata": {},
          "execution_count": 13
        },
        {
          "output_type": "display_data",
          "data": {
            "image/png": "[encoded data removed]",
            "text/plain": [
              "<Figure size 432x288 with 1 Axes>"
            ]
          },
          "metadata": {
            "needs_background": "light"
          }
        }
      ],
      "source": [
        "plt.plot(range(n_epochs), train_losses_1)\n",
        "plt.plot(range(n_epochs), valid_losses_1)\n",
        "plt.legend(['train', 'validation'], prop={'size': 10})\n",
        "plt.title('loss function', size=10)\n",
        "plt.xlabel('epoch', size=10)\n",
        "plt.ylabel('loss value', size=10)"
      ]
    },
    {
      "cell_type": "markdown",
      "metadata": {
        "id": "1C17bsUC1W_Y"
      },
      "source": [
        "Let us load the model corresponding to the lowest validation loss."
      ]
    },
    {
      "cell_type": "code",
      "execution_count": 14,
      "metadata": {
        "colab": {
          "base_uri": "https://localhost:8080/"
        },
        "id": "qzToZJN3FBbS",
        "outputId": "34c98800-bda7-4842-f653-0ad406738e82"
      },
      "outputs": [
        {
          "output_type": "execute_result",
          "data": {
            "text/plain": [
              "<All keys matched successfully>"
            ]
          },
          "metadata": {},
          "execution_count": 14
        }
      ],
      "source": [
        "model_1.load_state_dict(torch.load('model.pt', map_location=device))"
      ]
    },
    {
      "cell_type": "markdown",
      "metadata": {
        "id": "NM5BWPs_3Pbz"
      },
      "source": [
        "### 8- Testing\n",
        "\n",
        "Finally, we test our best model on previously unseen test data and evaluate it’s performance. Testing on unseen data is a good way to check that our model generalizes well! It may also be useful to be granular in this analysis and take a look at how this model performs on each class as well as looking at its **overall** loss and **accuracy**."
      ]
    },
    {
      "cell_type": "code",
      "execution_count": 15,
      "metadata": {
        "id": "KQIsKly4D6bw"
      },
      "outputs": [],
      "source": [
        "def evaluation(model, test_loader, criterion):\n",
        "\n",
        "  # initialize lists to monitor test loss and accuracy\n",
        "  test_loss = 0.0\n",
        "  class_correct = list(0. for i in range(10))\n",
        "  class_total = list(0. for i in range(10))\n",
        "\n",
        "  model.eval() # prep model for evaluation\n",
        "  for data, label in test_loader:\n",
        "      data = data.to(device=device, dtype=torch.float32)\n",
        "      label = label.to(device=device, dtype=torch.long)\n",
        "      with torch.no_grad():\n",
        "          output = model(data) # forward pass: compute predicted outputs by passing inputs to the model\n",
        "      loss = criterion(output, label)\n",
        "      test_loss += loss.item()*data.size(0)\n",
        "      _, pred = torch.max(output, 1) # convert output probabilities to predicted class\n",
        "      correct = np.squeeze(pred.eq(label.data.view_as(pred))) # compare predictions to true label\n",
        "      # calculate test accuracy for each object class\n",
        "      for i in range(len(label)):\n",
        "          digit = label.data[i]\n",
        "          class_correct[digit] += correct[i].item()\n",
        "          class_total[digit] += 1\n",
        "\n",
        "  # calculate and print avg test loss\n",
        "  test_loss = test_loss/len(test_loader.sampler)\n",
        "  print('test Loss: {:.6f}\\n'.format(test_loss))\n",
        "  for i in range(10):\n",
        "      print('test accuracy of %1s: %2d%% (%2d/%2d)' % (str(i), 100 * class_correct[i] / class_total[i], np.sum(class_correct[i]), np.sum(class_total[i])))\n",
        "  print('\\ntest accuracy (overall): %2.2f%% (%2d/%2d)' % (100. * np.sum(class_correct) / np.sum(class_total), np.sum(class_correct), np.sum(class_total)))"
      ]
    },
    {
      "cell_type": "code",
      "execution_count": 16,
      "metadata": {
        "colab": {
          "base_uri": "https://localhost:8080/"
        },
        "id": "Dc3tr9mEZ2rP",
        "outputId": "c7ebe250-11b2-420b-f129-5d178618ea27"
      },
      "outputs": [
        {
          "output_type": "stream",
          "name": "stdout",
          "text": [
            "test Loss: 0.287992\n",
            "\n",
            "test accuracy of 0: 98% (962/980)\n",
            "test accuracy of 1: 97% (1109/1135)\n",
            "test accuracy of 2: 89% (919/1032)\n",
            "test accuracy of 3: 90% (915/1010)\n",
            "test accuracy of 4: 93% (919/982)\n",
            "test accuracy of 5: 86% (772/892)\n",
            "test accuracy of 6: 94% (906/958)\n",
            "test accuracy of 7: 92% (948/1028)\n",
            "test accuracy of 8: 88% (863/974)\n",
            "test accuracy of 9: 87% (887/1009)\n",
            "\n",
            "test accuracy (overall): 92.00% (9200/10000)\n"
          ]
        }
      ],
      "source": [
        "evaluation(model_1, test_loader, criterion)"
      ]
    },
    {
      "cell_type": "markdown",
      "metadata": {
        "id": "H6Qr8y1JrplH"
      },
      "source": [
        "#### **Question 8.1** - What is the most difficult digit to predict? Is overall accuracy good? **Answer** : 5\n"
      ]
    },
    {
      "cell_type": "markdown",
      "metadata": {
        "id": "-Brj2Tz_6QMU"
      },
      "source": [
        "### 9- Visualize results\n",
        "\n",
        "The following cell displays test images and their labels in this format: predicted (ground-truth). The text is green for accurately classified examples and red for incorrect predictions."
      ]
    },
    {
      "cell_type": "code",
      "execution_count": 17,
      "metadata": {
        "id": "7rqBNImBD-E0"
      },
      "outputs": [],
      "source": [
        "def visualization(model, test_loader):\n",
        "\n",
        "  data_iter = iter(test_loader)\n",
        "  images, labels = data_iter.next() # obtain one batch of test images\n",
        "  images = images.to(device=device, dtype=torch.float32)\n",
        "  labels = labels.to(device=device, dtype=torch.long)\n",
        "  with torch.no_grad():\n",
        "      output = model(images) # get model output\n",
        "  _, preds = torch.max(output, 1) # convert output probabilities to predicted class\n",
        "  images = images.cpu().numpy() # prep images for display\n",
        "  # plot the images in the batch, along with predicted and true labels\n",
        "  fig = plt.figure(figsize=(25, 4))\n",
        "  for idx in np.arange(20):\n",
        "      ax = fig.add_subplot(2, 20/2, idx+1, xticks=[], yticks=[])\n",
        "      ax.imshow(np.squeeze(images[idx]), cmap='gray')\n",
        "      ax.set_title(\"{} ({})\".format(str(preds[idx].item()), str(labels[idx].item())), color=(\"green\" if preds[idx]==labels[idx] else \"red\"))"
      ]
    },
    {
      "cell_type": "code",
      "execution_count": 18,
      "metadata": {
        "colab": {
          "base_uri": "https://localhost:8080/",
          "height": 225
        },
        "id": "osfUv94NaEi4",
        "outputId": "276000d9-b2f3-4e1c-b273-d206ee147bdf"
      },
      "outputs": [
        {
          "output_type": "display_data",
          "data": {
            "image/png": "[encoded data removed]",
            "text/plain": [
              "<Figure size 1800x288 with 20 Axes>"
            ]
          },
          "metadata": {}
        }
      ],
      "source": [
        "visualization(model_1, test_loader)"
      ]
    },
    {
      "cell_type": "markdown",
      "metadata": {
        "id": "NVeueqWq6kU4"
      },
      "source": [
        "### 10- Incorrect predictions\n",
        "\n",
        "First of all, let us extract predicted (*preds*) and ground truth (*targets*) labels for images arising from the test set. "
      ]
    },
    {
      "cell_type": "code",
      "execution_count": 19,
      "metadata": {
        "id": "jxxIS6e6KXrY"
      },
      "outputs": [],
      "source": [
        "def get_all_prediction(model, loader):\n",
        "    preds = torch.tensor([], dtype=torch.long)\n",
        "    targets = torch.tensor([], dtype=torch.long)\n",
        "    for data, label in loader:\n",
        "        data = data.to(device=device, dtype=torch.float32)\n",
        "        label = label.to(device=device, dtype=torch.long)\n",
        "        with torch.no_grad():\n",
        "            output = model(data)\n",
        "        targets = torch.cat((targets, label.cpu()), dim = 0)\n",
        "        preds = torch.cat((preds, torch.max(output.cpu(), 1)[1]), dim = 0)\n",
        "    return targets.numpy(), preds.numpy()"
      ]
    },
    {
      "cell_type": "code",
      "execution_count": 20,
      "metadata": {
        "id": "g8hqY6sX64Nm"
      },
      "outputs": [],
      "source": [
        "targets, preds_1 = get_all_prediction(model_1, test_loader)"
      ]
    },
    {
      "cell_type": "markdown",
      "metadata": {
        "id": "tq8IGvWn67Rs"
      },
      "source": [
        "We are now ready to visualize some of the incorrect predictions."
      ]
    },
    {
      "cell_type": "code",
      "execution_count": 21,
      "metadata": {
        "colab": {
          "base_uri": "https://localhost:8080/",
          "height": 223
        },
        "id": "-dcFjx1QGpkm",
        "outputId": "bcd7b887-8ac1-45af-9098-2d267ad37013"
      },
      "outputs": [
        {
          "output_type": "display_data",
          "data": {
            "image/png": "[encoded data removed]",
            "text/plain": [
              "<Figure size 1800x288 with 20 Axes>"
            ]
          },
          "metadata": {
            "needs_background": "light"
          }
        }
      ],
      "source": [
        "index = np.where(preds_1 - targets != 0)[0]\n",
        "test_set_array = test_data.data.numpy()\n",
        "plt.figure(figsize=(25, 4))\n",
        "for i in range(20):\n",
        "  plt.subplot(2, 10, i + 1)\n",
        "  plt.axis('off')\n",
        "  plt.imshow(test_set_array[index[i],:,:], cmap='gray')\n",
        "  plt.title(\"{} ({})\".format(str(np.int(preds_1[index[i]])), str(np.int(targets[index[i]]))),color=(\"red\"))\n",
        "plt.show()"
      ]
    },
    {
      "cell_type": "markdown",
      "metadata": {
        "id": "YwTFkR2RX-dx"
      },
      "source": [
        "### 11- Confusion matrix"
      ]
    },
    {
      "cell_type": "markdown",
      "metadata": {
        "id": "22L0r1zEtJqR"
      },
      "source": [
        "The confusion matrix is a specific table layout that allows visualization of the performance of an algorithm. Each row of the matrix corresponds to the instances in a ground truth class while each column represents the instances in an predicted class (or vice versa)."
      ]
    },
    {
      "cell_type": "code",
      "execution_count": 22,
      "metadata": {
        "id": "Zw0oafsMX-dx"
      },
      "outputs": [],
      "source": [
        "from sklearn.metrics import confusion_matrix\n",
        "import itertools\n",
        "\n",
        "class_names= ['0','1','2','3','4','5','6','7','8','9']\n",
        "\n",
        "def plot_confusion_matrix(cm, classes, normalize=False, title='confusion matrix', cmap=plt.cm.Blues):\n",
        "    # This function prints and plots the confusion matrix. Normalization can be applied by setting `normalize=True`\n",
        "    if normalize:\n",
        "        cm = cm.astype('float') / cm.sum(axis=1)[:, np.newaxis]\n",
        "        print(\"normalized confusion matrix\")\n",
        "    else:\n",
        "        print('confusion matrix, without normalization')\n",
        "\n",
        "    plt.imshow(cm, interpolation='nearest', cmap=cmap)\n",
        "    plt.title(title)\n",
        "    plt.colorbar()\n",
        "    tick_marks = np.arange(len(classes))\n",
        "    plt.xticks(tick_marks, classes, rotation=45)\n",
        "    plt.yticks(tick_marks, classes)\n",
        "\n",
        "    fmt = '.2f' if normalize else 'd'\n",
        "    thresh = cm.max() / 2.\n",
        "    for i, j in itertools.product(range(cm.shape[0]), range(cm.shape[1])):\n",
        "        plt.text(j, i, format(cm[i, j], fmt),\n",
        "                 horizontalalignment=\"center\",\n",
        "                 color=\"white\" if cm[i, j] > thresh else \"black\")\n",
        "\n",
        "    plt.tight_layout()\n",
        "    plt.ylabel('true label')\n",
        "    plt.xlabel('predicted label')"
      ]
    },
    {
      "cell_type": "code",
      "execution_count": 23,
      "metadata": {
        "colab": {
          "base_uri": "https://localhost:8080/",
          "height": 459
        },
        "id": "nkuaLoa-8jOz",
        "outputId": "54efd662-f152-4c3a-c366-f9d1335cf99a"
      },
      "outputs": [
        {
          "output_type": "stream",
          "name": "stdout",
          "text": [
            "normalized confusion matrix\n"
          ]
        },
        {
          "output_type": "display_data",
          "data": {
            "image/png": "[encoded data removed]",
            "text/plain": [
              "<Figure size 432x432 with 2 Axes>"
            ]
          },
          "metadata": {
            "needs_background": "light"
          }
        }
      ],
      "source": [
        "# compute confusion matrix\n",
        "cnf_matrix = confusion_matrix(targets, preds_1)\n",
        "np.set_printoptions(precision=2)\n",
        "\n",
        "# plot normalized confusion matrix\n",
        "plt.figure(figsize=(6, 6))\n",
        "plot_confusion_matrix(cnf_matrix, classes=class_names, normalize=True, title='normalized confusion matrix')\n",
        "\n",
        "plt.show()"
      ]
    },
    {
      "cell_type": "markdown",
      "metadata": {
        "id": "4uAlWW7lsbDQ"
      },
      "source": [
        "#### **Question 11.1** - What are the most common errors? **Answer**: 5->3, 5->8"
      ]
    },
    {
      "cell_type": "markdown",
      "metadata": {
        "id": "Mpq2aqtw7MdR"
      },
      "source": [
        "### 12- Deeper MLP\n",
        "\n",
        "Our goal is to define a new architecture and train the network to reach (at least) 97% of global accuracy for the test dataset.\n",
        "\n",
        "#### **Question 12.1** - Define a deeper network architecture. In practice, we may use two hidden layers (with 512 neurons) as well as dropout ([documentation](https://pytorch.org/docs/stable/generated/torch.nn.Dropout.html)) to avoid overfitting. "
      ]
    },
    {
      "cell_type": "code",
      "execution_count": 24,
      "metadata": {
        "id": "i27yTyfnQj1t"
      },
      "outputs": [],
      "source": [
        "'''\n",
        "class Net1(nn.Module):\n",
        "\n",
        "    def __init__(self):\n",
        "        super(Net1,self).__init__()\n",
        "        self.fc1 = nn.Linear(28*28, 10) # linear layer (784 -> 10)\n",
        "        \n",
        "    def forward(self,x):\n",
        "        x = x.view(-1,28*28) # flatten input image\n",
        "        x = self.fc1(x)\n",
        "        return x\n",
        "'''\n",
        "'''\n",
        "# class initialization\n",
        "    def __init__(self, input_size, hidden_size, output_size):\n",
        "        super(nonlinear_regression_nn, self).__init__()\n",
        "        # fully connected layer with linear activation\n",
        "        self.fc0 = nn.Linear(input_size, hidden_size)\n",
        "        # ReLu activation\n",
        "        self.relu = nn.ReLU()\n",
        "        # fully connected layer with linear activation\n",
        "        self.fc1 = nn.Linear(hidden_size, output_size)\n",
        "        \n",
        "    # function to apply the neural network\n",
        "    def forward(self, x):\n",
        "        out = self.fc0(x)\n",
        "        out = self.relu(out)\n",
        "        y_pred = self.fc1(out)\n",
        "        return y_pred\n",
        "'''\n",
        "class Net2(nn.Module):  \n",
        "    def __init__(self):\n",
        "        super(Net2,self).__init__()\n",
        "        self.fc1 = nn.Linear(28*28, 512) # linear layer (784 -> 512)\n",
        "        self.Drop = nn.Dropout(p=0.2)\n",
        "        self.rel1 = nn.ReLU()\n",
        "        self.fc2 = nn.Linear(512, 512)\n",
        "        self.rel2 = nn.ReLU()\n",
        "        self.fc3 = nn.Linear(512, 10)\n",
        "        self.SoftM = nn.Softmax(dim=1)\n",
        "        self.sigmoid = nn.Sigmoid()\n",
        "        \n",
        "    def forward(self,x):\n",
        "        x = x.view(-1,28*28) # flatten input image\n",
        "        x = self.fc1(x)\n",
        "        x = self.Drop(x)\n",
        "        x = self.rel1(x)\n",
        "        x = self.fc2(x)\n",
        "        x = self.Drop(x)\n",
        "        x = self.rel2(x)\n",
        "        x = self.fc3(x)\n",
        "        #x = self.SoftM(x)\n",
        "        #x = self.sigmoid(x)\n",
        "        return x\n",
        "        \n"
      ]
    },
    {
      "cell_type": "code",
      "execution_count": 25,
      "metadata": {
        "colab": {
          "base_uri": "https://localhost:8080/"
        },
        "id": "TiddhzR3SkW-",
        "outputId": "af0fa125-0505-444d-c552-1541a5d927a9"
      },
      "outputs": [
        {
          "output_type": "execute_result",
          "data": {
            "text/plain": [
              "Net2(\n",
              "  (fc1): Linear(in_features=784, out_features=512, bias=True)\n",
              "  (Drop): Dropout(p=0.2, inplace=False)\n",
              "  (rel1): ReLU()\n",
              "  (fc2): Linear(in_features=512, out_features=512, bias=True)\n",
              "  (rel2): ReLU()\n",
              "  (fc3): Linear(in_features=512, out_features=10, bias=True)\n",
              "  (SoftM): Softmax(dim=1)\n",
              "  (sigmoid): Sigmoid()\n",
              ")"
            ]
          },
          "metadata": {},
          "execution_count": 25
        }
      ],
      "source": [
        "model_2 = Net2()\n",
        "model_2.to(device=device)"
      ]
    },
    {
      "cell_type": "markdown",
      "metadata": {
        "id": "yvfwuG2b7toM"
      },
      "source": [
        "#### **Question 12.2** - Train the new MLP model (*Net2*)."
      ]
    },
    {
      "cell_type": "markdown",
      "metadata": {
        "id": "v6Y1kUlVLM80"
      },
      "source": [
        "#### Define an optimizer for model_2."
      ]
    },
    {
      "cell_type": "code",
      "execution_count": 26,
      "metadata": {
        "id": "cUP7EYwn-9lC"
      },
      "outputs": [],
      "source": [
        "optimizer = torch.optim.SGD(model_2.parameters(),lr = 0.01) # specify optimizer (stochastic gradient descent) and learning rate"
      ]
    },
    {
      "cell_type": "markdown",
      "metadata": {
        "id": "Rs28G_bYLM82"
      },
      "source": [
        "#### Use the \"training\" function in Section 6 to train the model_2."
      ]
    },
    {
      "cell_type": "code",
      "execution_count": 27,
      "metadata": {
        "colab": {
          "base_uri": "https://localhost:8080/"
        },
        "id": "xkfZoZzxStIn",
        "outputId": "badfa1d3-4ccc-41d3-adc8-bd40fbd78149"
      },
      "outputs": [
        {
          "output_type": "stream",
          "name": "stdout",
          "text": [
            "epoch: 1 \ttraining Loss: 0.935451 \tvalidation Loss: 0.378004\n",
            "validation loss decreased (inf --> 0.378004).  Saving model ...\n",
            "epoch: 2 \ttraining Loss: 0.356391 \tvalidation Loss: 0.289957\n",
            "validation loss decreased (0.378004 --> 0.289957).  Saving model ...\n",
            "epoch: 3 \ttraining Loss: 0.282525 \tvalidation Loss: 0.240424\n",
            "validation loss decreased (0.289957 --> 0.240424).  Saving model ...\n",
            "epoch: 4 \ttraining Loss: 0.233759 \tvalidation Loss: 0.206333\n",
            "validation loss decreased (0.240424 --> 0.206333).  Saving model ...\n",
            "epoch: 5 \ttraining Loss: 0.196369 \tvalidation Loss: 0.179192\n",
            "validation loss decreased (0.206333 --> 0.179192).  Saving model ...\n",
            "epoch: 6 \ttraining Loss: 0.171874 \tvalidation Loss: 0.159348\n",
            "validation loss decreased (0.179192 --> 0.159348).  Saving model ...\n",
            "epoch: 7 \ttraining Loss: 0.151314 \tvalidation Loss: 0.145599\n",
            "validation loss decreased (0.159348 --> 0.145599).  Saving model ...\n",
            "epoch: 8 \ttraining Loss: 0.136719 \tvalidation Loss: 0.131748\n",
            "validation loss decreased (0.145599 --> 0.131748).  Saving model ...\n",
            "epoch: 9 \ttraining Loss: 0.122790 \tvalidation Loss: 0.121693\n",
            "validation loss decreased (0.131748 --> 0.121693).  Saving model ...\n",
            "epoch: 10 \ttraining Loss: 0.112638 \tvalidation Loss: 0.114899\n",
            "validation loss decreased (0.121693 --> 0.114899).  Saving model ...\n",
            "epoch: 11 \ttraining Loss: 0.101888 \tvalidation Loss: 0.108542\n",
            "validation loss decreased (0.114899 --> 0.108542).  Saving model ...\n",
            "epoch: 12 \ttraining Loss: 0.096408 \tvalidation Loss: 0.101514\n",
            "validation loss decreased (0.108542 --> 0.101514).  Saving model ...\n",
            "epoch: 13 \ttraining Loss: 0.087918 \tvalidation Loss: 0.097328\n",
            "validation loss decreased (0.101514 --> 0.097328).  Saving model ...\n",
            "epoch: 14 \ttraining Loss: 0.080848 \tvalidation Loss: 0.095006\n",
            "validation loss decreased (0.097328 --> 0.095006).  Saving model ...\n",
            "epoch: 15 \ttraining Loss: 0.076020 \tvalidation Loss: 0.091120\n",
            "validation loss decreased (0.095006 --> 0.091120).  Saving model ...\n"
          ]
        }
      ],
      "source": [
        "\n",
        "# train_losses_1, valid_losses_1 = training(n_epochs, train_loader, valid_loader, model_1, criterion, optimizer)\n",
        "train_losses_2, valid_losses_2 = training(n_epochs, train_loader, valid_loader, model_2, criterion, optimizer)"
      ]
    },
    {
      "cell_type": "markdown",
      "metadata": {
        "id": "sO9E6UY8H3ab"
      },
      "source": [
        "#### **Question 12.3** - For comparison purposes, display in a single graph the loss functions for both training and validation sets and both models (*Net1* and *Net2*)."
      ]
    },
    {
      "cell_type": "code",
      "execution_count": 28,
      "metadata": {
        "id": "3BVzXDIS9JzI",
        "outputId": "eb37fdc6-26c3-42d4-ec12-3a8e414ccb18",
        "colab": {
          "base_uri": "https://localhost:8080/",
          "height": 311
        }
      },
      "outputs": [
        {
          "output_type": "execute_result",
          "data": {
            "text/plain": [
              "Text(0, 0.5, 'loss value')"
            ]
          },
          "metadata": {},
          "execution_count": 28
        },
        {
          "output_type": "display_data",
          "data": {
            "image/png": "[encoded data removed]",
            "text/plain": [
              "<Figure size 432x288 with 1 Axes>"
            ]
          },
          "metadata": {
            "needs_background": "light"
          }
        }
      ],
      "source": [
        "plt.plot(range(n_epochs), train_losses_1)\n",
        "plt.plot(range(n_epochs), valid_losses_1)\n",
        "plt.plot(range(n_epochs), train_losses_2)\n",
        "plt.plot(range(n_epochs), valid_losses_2)\n",
        "\n",
        "\n",
        "\n",
        "plt.legend(['train m1', 'validation m1', 'train m2', 'validation m2'], prop={'size': 10})\n",
        "plt.title('loss function', size=10)\n",
        "plt.xlabel('epoch', size=10)\n",
        "plt.ylabel('loss value', size=10)"
      ]
    },
    {
      "cell_type": "markdown",
      "metadata": {
        "id": "H0nkNOcBuIfk"
      },
      "source": [
        "#### **Question 12.4** - Perform the quantitative assessment by computing per-class and overall accuracy scores."
      ]
    },
    {
      "cell_type": "code",
      "execution_count": 29,
      "metadata": {
        "id": "67BAmgUs9XaX",
        "outputId": "01d2fa11-64f7-440d-f35b-c4ad0d22df80",
        "colab": {
          "base_uri": "https://localhost:8080/"
        }
      },
      "outputs": [
        {
          "output_type": "execute_result",
          "data": {
            "text/plain": [
              "<All keys matched successfully>"
            ]
          },
          "metadata": {},
          "execution_count": 29
        }
      ],
      "source": [
        "model_2.load_state_dict(torch.load('model.pt', map_location=device))"
      ]
    },
    {
      "cell_type": "markdown",
      "metadata": {
        "id": "9YVxVnlOLM86"
      },
      "source": [
        "#### Use the Evaluation function defined in Section 8 to assess the performance of model_2"
      ]
    },
    {
      "cell_type": "code",
      "execution_count": 30,
      "metadata": {
        "id": "CqBiPair9Y27",
        "outputId": "1f10bbf8-661f-4302-bd60-02637d13e1a1",
        "colab": {
          "base_uri": "https://localhost:8080/"
        }
      },
      "outputs": [
        {
          "output_type": "stream",
          "name": "stdout",
          "text": [
            "test Loss: 0.078487\n",
            "\n",
            "test accuracy of 0: 98% (965/980)\n",
            "test accuracy of 1: 98% (1122/1135)\n",
            "test accuracy of 2: 97% (1004/1032)\n",
            "test accuracy of 3: 97% (985/1010)\n",
            "test accuracy of 4: 97% (960/982)\n",
            "test accuracy of 5: 96% (861/892)\n",
            "test accuracy of 6: 97% (934/958)\n",
            "test accuracy of 7: 96% (996/1028)\n",
            "test accuracy of 8: 97% (945/974)\n",
            "test accuracy of 9: 96% (976/1009)\n",
            "\n",
            "test accuracy (overall): 97.48% (9748/10000)\n"
          ]
        }
      ],
      "source": [
        "evaluation(model_2, test_loader, criterion)"
      ]
    },
    {
      "cell_type": "markdown",
      "metadata": {
        "id": "6wq-olf_86Jn"
      },
      "source": [
        "#### **Question 12.5** - Perform the qualitative assessment by displaying some test images with their predicted and ground truth labels."
      ]
    },
    {
      "cell_type": "code",
      "execution_count": 31,
      "metadata": {
        "id": "1ZGhHSuO9i5_",
        "outputId": "1c08b72d-2693-41c2-a146-212e769f58cc",
        "colab": {
          "base_uri": "https://localhost:8080/",
          "height": 225
        }
      },
      "outputs": [
        {
          "output_type": "display_data",
          "data": {
            "image/png": "[encoded data removed]",
            "text/plain": [
              "<Figure size 1800x288 with 20 Axes>"
            ]
          },
          "metadata": {}
        }
      ],
      "source": [
        "visualization(model_2, test_loader)"
      ]
    },
    {
      "cell_type": "markdown",
      "metadata": {
        "id": "94BcUYIG9Vv_"
      },
      "source": [
        "#### **Question 12.6** - Compute the predicted labels for the test set and display the resulting confusion matrix."
      ]
    },
    {
      "cell_type": "code",
      "execution_count": 32,
      "metadata": {
        "id": "Wyh-y8w290Nf",
        "outputId": "32f2b437-cdf5-46af-be95-575bd7010211",
        "colab": {
          "base_uri": "https://localhost:8080/",
          "height": 223
        }
      },
      "outputs": [
        {
          "output_type": "display_data",
          "data": {
            "image/png": "[encoded data removed]",
            "text/plain": [
              "<Figure size 1800x288 with 20 Axes>"
            ]
          },
          "metadata": {
            "needs_background": "light"
          }
        }
      ],
      "source": [
        "targets, preds_2 = get_all_prediction(model_2, test_loader)\n",
        "\n",
        "index = np.where(preds_2 - targets != 0)[0]\n",
        "test_set_array = test_data.data.numpy()\n",
        "plt.figure(figsize=(25, 4))\n",
        "for i in range(20):\n",
        "  plt.subplot(2, 10, i + 1)\n",
        "  plt.axis('off')\n",
        "  plt.imshow(test_set_array[index[i],:,:], cmap='gray')\n",
        "  plt.title(\"{} ({})\".format(str(np.int(preds_2[index[i]])), str(np.int(targets[index[i]]))),color=(\"red\"))\n",
        "plt.show()"
      ]
    },
    {
      "cell_type": "code",
      "execution_count": 33,
      "metadata": {
        "id": "kbuIhyq_uXQ8",
        "outputId": "bfe48793-0595-4f26-82fe-cce814985aa3",
        "colab": {
          "base_uri": "https://localhost:8080/",
          "height": 459
        }
      },
      "outputs": [
        {
          "output_type": "stream",
          "name": "stdout",
          "text": [
            "normalized confusion matrix\n"
          ]
        },
        {
          "output_type": "display_data",
          "data": {
            "image/png": "[encoded data removed]",
            "text/plain": [
              "<Figure size 432x432 with 2 Axes>"
            ]
          },
          "metadata": {
            "needs_background": "light"
          }
        }
      ],
      "source": [
        "# compute confusion matrix\n",
        "cnf_matrix = confusion_matrix(targets, preds_2)\n",
        "np.set_printoptions(precision=2)\n",
        "\n",
        "# plot normalized confusion matrix\n",
        "plt.figure(figsize=(6, 6))\n",
        "plot_confusion_matrix(cnf_matrix, classes=class_names, normalize=True, title='normalized confusion matrix')\n",
        "\n",
        "plt.show()"
      ]
    },
    {
      "cell_type": "markdown",
      "metadata": {
        "id": "9HGAp_PrunNf"
      },
      "source": [
        "#### **Question 12.7** - What are the results for incorrect predictions arising from *Net1*? Labels should be indicated in the following format: predicted from *Net1* (ground-truth) | predicted from *Net2*."
      ]
    },
    {
      "cell_type": "code",
      "execution_count": 33,
      "metadata": {
        "id": "s_Yeqh9p95ti"
      },
      "outputs": [],
      "source": [
        "\n",
        "\n",
        "\n"
      ]
    },
    {
      "cell_type": "markdown",
      "metadata": {
        "id": "MqNAXRUN9il8"
      },
      "source": [
        "\n",
        "\n",
        "---\n",
        "\n"
      ]
    },
    {
      "cell_type": "code",
      "source": [
        ""
      ],
      "metadata": {
        "id": "_0syKj2oikaI"
      },
      "execution_count": 33,
      "outputs": []
    }
  ],
  "metadata": {
    "accelerator": "GPU",
    "colab": {
      "collapsed_sections": [],
      "name": "lab-session-3-MLP-MNIST-correction.ipynb",
      "provenance": []
    },
    "interpreter": {
      "hash": "7b4b4feff2f24a0f0a34464dbe537a36fda679851528fb8735cb41fa49dffb2d"
    },
    "kernelspec": {
      "display_name": "Python 3.8.8 64-bit ('base': conda)",
      "name": "python3"
    },
    "language_info": {
      "codemirror_mode": {
        "name": "ipython",
        "version": 3
      },
      "file_extension": ".py",
      "mimetype": "text/x-python",
      "name": "python",
      "nbconvert_exporter": "python",
      "pygments_lexer": "ipython3",
      "version": "3.8.8"
    },
    "widgets": {
      "application/vnd.jupyter.widget-state+json": {
        "3295f526c8824f76af02e01269e2bebc": {
          "model_module": "@jupyter-widgets/controls",
          "model_name": "HBoxModel",
          "model_module_version": "1.5.0",
          "state": {
            "_view_name": "HBoxView",
            "_dom_classes": [],
            "_model_name": "HBoxModel",
            "_view_module": "@jupyter-widgets/controls",
            "_model_module_version": "1.5.0",
            "_view_count": null,
            "_view_module_version": "1.5.0",
            "box_style": "",
            "layout": "IPY_MODEL_eb2aaa3e0c954215b176faaa7e33ce4e",
            "_model_module": "@jupyter-widgets/controls",
            "children": [
              "IPY_MODEL_677628ac4cd7417fa4976529dcb034f6",
              "IPY_MODEL_b99e5f9353b64259a2c92e7c4b3b26f4",
              "IPY_MODEL_1138b44b05c34e53a9bcb5eb36fcea85"
            ]
          }
        },
        "eb2aaa3e0c954215b176faaa7e33ce4e": {
          "model_module": "@jupyter-widgets/base",
          "model_name": "LayoutModel",
          "model_module_version": "1.2.0",
          "state": {
            "_view_name": "LayoutView",
            "grid_template_rows": null,
            "right": null,
            "justify_content": null,
            "_view_module": "@jupyter-widgets/base",
            "overflow": null,
            "_model_module_version": "1.2.0",
            "_view_count": null,
            "flex_flow": null,
            "width": null,
            "min_width": null,
            "border": null,
            "align_items": null,
            "bottom": null,
            "_model_module": "@jupyter-widgets/base",
            "top": null,
            "grid_column": null,
            "overflow_y": null,
            "overflow_x": null,
            "grid_auto_flow": null,
            "grid_area": null,
            "grid_template_columns": null,
            "flex": null,
            "_model_name": "LayoutModel",
            "justify_items": null,
            "grid_row": null,
            "max_height": null,
            "align_content": null,
            "visibility": null,
            "align_self": null,
            "height": null,
            "min_height": null,
            "padding": null,
            "grid_auto_rows": null,
            "grid_gap": null,
            "max_width": null,
            "order": null,
            "_view_module_version": "1.2.0",
            "grid_template_areas": null,
            "object_position": null,
            "object_fit": null,
            "grid_auto_columns": null,
            "margin": null,
            "display": null,
            "left": null
          }
        },
        "677628ac4cd7417fa4976529dcb034f6": {
          "model_module": "@jupyter-widgets/controls",
          "model_name": "HTMLModel",
          "model_module_version": "1.5.0",
          "state": {
            "_view_name": "HTMLView",
            "style": "IPY_MODEL_e9d66cbbe3184527948eeb0d59a118d0",
            "_dom_classes": [],
            "description": "",
            "_model_name": "HTMLModel",
            "placeholder": "​",
            "_view_module": "@jupyter-widgets/controls",
            "_model_module_version": "1.5.0",
            "value": "",
            "_view_count": null,
            "_view_module_version": "1.5.0",
            "description_tooltip": null,
            "_model_module": "@jupyter-widgets/controls",
            "layout": "IPY_MODEL_9b58f543d42544e39144370ad08dcc23"
          }
        },
        "b99e5f9353b64259a2c92e7c4b3b26f4": {
          "model_module": "@jupyter-widgets/controls",
          "model_name": "FloatProgressModel",
          "model_module_version": "1.5.0",
          "state": {
            "_view_name": "ProgressView",
            "style": "IPY_MODEL_7e2cd542ef7e4e1287f1595dc23b35d2",
            "_dom_classes": [],
            "description": "",
            "_model_name": "FloatProgressModel",
            "bar_style": "success",
            "max": 9912422,
            "_view_module": "@jupyter-widgets/controls",
            "_model_module_version": "1.5.0",
            "value": 9912422,
            "_view_count": null,
            "_view_module_version": "1.5.0",
            "orientation": "horizontal",
            "min": 0,
            "description_tooltip": null,
            "_model_module": "@jupyter-widgets/controls",
            "layout": "IPY_MODEL_7c0322141d274ea6a3173c40653c5460"
          }
        },
        "1138b44b05c34e53a9bcb5eb36fcea85": {
          "model_module": "@jupyter-widgets/controls",
          "model_name": "HTMLModel",
          "model_module_version": "1.5.0",
          "state": {
            "_view_name": "HTMLView",
            "style": "IPY_MODEL_fe7f542b91d2442397b4d7635bb78e17",
            "_dom_classes": [],
            "description": "",
            "_model_name": "HTMLModel",
            "placeholder": "​",
            "_view_module": "@jupyter-widgets/controls",
            "_model_module_version": "1.5.0",
            "value": " 9913344/? [00:00&lt;00:00, 15537249.70it/s]",
            "_view_count": null,
            "_view_module_version": "1.5.0",
            "description_tooltip": null,
            "_model_module": "@jupyter-widgets/controls",
            "layout": "IPY_MODEL_8fcc9c44a7884702a2231dfe7454fb35"
          }
        },
        "e9d66cbbe3184527948eeb0d59a118d0": {
          "model_module": "@jupyter-widgets/controls",
          "model_name": "DescriptionStyleModel",
          "model_module_version": "1.5.0",
          "state": {
            "_view_name": "StyleView",
            "_model_name": "DescriptionStyleModel",
            "description_width": "",
            "_view_module": "@jupyter-widgets/base",
            "_model_module_version": "1.5.0",
            "_view_count": null,
            "_view_module_version": "1.2.0",
            "_model_module": "@jupyter-widgets/controls"
          }
        },
        "9b58f543d42544e39144370ad08dcc23": {
          "model_module": "@jupyter-widgets/base",
          "model_name": "LayoutModel",
          "model_module_version": "1.2.0",
          "state": {
            "_view_name": "LayoutView",
            "grid_template_rows": null,
            "right": null,
            "justify_content": null,
            "_view_module": "@jupyter-widgets/base",
            "overflow": null,
            "_model_module_version": "1.2.0",
            "_view_count": null,
            "flex_flow": null,
            "width": null,
            "min_width": null,
            "border": null,
            "align_items": null,
            "bottom": null,
            "_model_module": "@jupyter-widgets/base",
            "top": null,
            "grid_column": null,
            "overflow_y": null,
            "overflow_x": null,
            "grid_auto_flow": null,
            "grid_area": null,
            "grid_template_columns": null,
            "flex": null,
            "_model_name": "LayoutModel",
            "justify_items": null,
            "grid_row": null,
            "max_height": null,
            "align_content": null,
            "visibility": null,
            "align_self": null,
            "height": null,
            "min_height": null,
            "padding": null,
            "grid_auto_rows": null,
            "grid_gap": null,
            "max_width": null,
            "order": null,
            "_view_module_version": "1.2.0",
            "grid_template_areas": null,
            "object_position": null,
            "object_fit": null,
            "grid_auto_columns": null,
            "margin": null,
            "display": null,
            "left": null
          }
        },
        "7e2cd542ef7e4e1287f1595dc23b35d2": {
          "model_module": "@jupyter-widgets/controls",
          "model_name": "ProgressStyleModel",
          "model_module_version": "1.5.0",
          "state": {
            "_view_name": "StyleView",
            "_model_name": "ProgressStyleModel",
            "description_width": "",
            "_view_module": "@jupyter-widgets/base",
            "_model_module_version": "1.5.0",
            "_view_count": null,
            "_view_module_version": "1.2.0",
            "bar_color": null,
            "_model_module": "@jupyter-widgets/controls"
          }
        },
        "7c0322141d274ea6a3173c40653c5460": {
          "model_module": "@jupyter-widgets/base",
          "model_name": "LayoutModel",
          "model_module_version": "1.2.0",
          "state": {
            "_view_name": "LayoutView",
            "grid_template_rows": null,
            "right": null,
            "justify_content": null,
            "_view_module": "@jupyter-widgets/base",
            "overflow": null,
            "_model_module_version": "1.2.0",
            "_view_count": null,
            "flex_flow": null,
            "width": null,
            "min_width": null,
            "border": null,
            "align_items": null,
            "bottom": null,
            "_model_module": "@jupyter-widgets/base",
            "top": null,
            "grid_column": null,
            "overflow_y": null,
            "overflow_x": null,
            "grid_auto_flow": null,
            "grid_area": null,
            "grid_template_columns": null,
            "flex": null,
            "_model_name": "LayoutModel",
            "justify_items": null,
            "grid_row": null,
            "max_height": null,
            "align_content": null,
            "visibility": null,
            "align_self": null,
            "height": null,
            "min_height": null,
            "padding": null,
            "grid_auto_rows": null,
            "grid_gap": null,
            "max_width": null,
            "order": null,
            "_view_module_version": "1.2.0",
            "grid_template_areas": null,
            "object_position": null,
            "object_fit": null,
            "grid_auto_columns": null,
            "margin": null,
            "display": null,
            "left": null
          }
        },
        "fe7f542b91d2442397b4d7635bb78e17": {
          "model_module": "@jupyter-widgets/controls",
          "model_name": "DescriptionStyleModel",
          "model_module_version": "1.5.0",
          "state": {
            "_view_name": "StyleView",
            "_model_name": "DescriptionStyleModel",
            "description_width": "",
            "_view_module": "@jupyter-widgets/base",
            "_model_module_version": "1.5.0",
            "_view_count": null,
            "_view_module_version": "1.2.0",
            "_model_module": "@jupyter-widgets/controls"
          }
        },
        "8fcc9c44a7884702a2231dfe7454fb35": {
          "model_module": "@jupyter-widgets/base",
          "model_name": "LayoutModel",
          "model_module_version": "1.2.0",
          "state": {
            "_view_name": "LayoutView",
            "grid_template_rows": null,
            "right": null,
            "justify_content": null,
            "_view_module": "@jupyter-widgets/base",
            "overflow": null,
            "_model_module_version": "1.2.0",
            "_view_count": null,
            "flex_flow": null,
            "width": null,
            "min_width": null,
            "border": null,
            "align_items": null,
            "bottom": null,
            "_model_module": "@jupyter-widgets/base",
            "top": null,
            "grid_column": null,
            "overflow_y": null,
            "overflow_x": null,
            "grid_auto_flow": null,
            "grid_area": null,
            "grid_template_columns": null,
            "flex": null,
            "_model_name": "LayoutModel",
            "justify_items": null,
            "grid_row": null,
            "max_height": null,
            "align_content": null,
            "visibility": null,
            "align_self": null,
            "height": null,
            "min_height": null,
            "padding": null,
            "grid_auto_rows": null,
            "grid_gap": null,
            "max_width": null,
            "order": null,
            "_view_module_version": "1.2.0",
            "grid_template_areas": null,
            "object_position": null,
            "object_fit": null,
            "grid_auto_columns": null,
            "margin": null,
            "display": null,
            "left": null
          }
        },
        "0b67518050c549588e0fdd2d5fef6d68": {
          "model_module": "@jupyter-widgets/controls",
          "model_name": "HBoxModel",
          "model_module_version": "1.5.0",
          "state": {
            "_view_name": "HBoxView",
            "_dom_classes": [],
            "_model_name": "HBoxModel",
            "_view_module": "@jupyter-widgets/controls",
            "_model_module_version": "1.5.0",
            "_view_count": null,
            "_view_module_version": "1.5.0",
            "box_style": "",
            "layout": "IPY_MODEL_f1284eef17e14d208446b493ba063dc0",
            "_model_module": "@jupyter-widgets/controls",
            "children": [
              "IPY_MODEL_06a54d6c20e84d66903c4bad4e37353f",
              "IPY_MODEL_9d275b977a574a16b9ef10d447b17c71",
              "IPY_MODEL_3c87481a14dd405fb85d26699f1e6606"
            ]
          }
        },
        "f1284eef17e14d208446b493ba063dc0": {
          "model_module": "@jupyter-widgets/base",
          "model_name": "LayoutModel",
          "model_module_version": "1.2.0",
          "state": {
            "_view_name": "LayoutView",
            "grid_template_rows": null,
            "right": null,
            "justify_content": null,
            "_view_module": "@jupyter-widgets/base",
            "overflow": null,
            "_model_module_version": "1.2.0",
            "_view_count": null,
            "flex_flow": null,
            "width": null,
            "min_width": null,
            "border": null,
            "align_items": null,
            "bottom": null,
            "_model_module": "@jupyter-widgets/base",
            "top": null,
            "grid_column": null,
            "overflow_y": null,
            "overflow_x": null,
            "grid_auto_flow": null,
            "grid_area": null,
            "grid_template_columns": null,
            "flex": null,
            "_model_name": "LayoutModel",
            "justify_items": null,
            "grid_row": null,
            "max_height": null,
            "align_content": null,
            "visibility": null,
            "align_self": null,
            "height": null,
            "min_height": null,
            "padding": null,
            "grid_auto_rows": null,
            "grid_gap": null,
            "max_width": null,
            "order": null,
            "_view_module_version": "1.2.0",
            "grid_template_areas": null,
            "object_position": null,
            "object_fit": null,
            "grid_auto_columns": null,
            "margin": null,
            "display": null,
            "left": null
          }
        },
        "06a54d6c20e84d66903c4bad4e37353f": {
          "model_module": "@jupyter-widgets/controls",
          "model_name": "HTMLModel",
          "model_module_version": "1.5.0",
          "state": {
            "_view_name": "HTMLView",
            "style": "IPY_MODEL_2ac30f4ab1c449649695edd7139e5de8",
            "_dom_classes": [],
            "description": "",
            "_model_name": "HTMLModel",
            "placeholder": "​",
            "_view_module": "@jupyter-widgets/controls",
            "_model_module_version": "1.5.0",
            "value": "",
            "_view_count": null,
            "_view_module_version": "1.5.0",
            "description_tooltip": null,
            "_model_module": "@jupyter-widgets/controls",
            "layout": "IPY_MODEL_e378f14244fe4297a52a4ecb539cf631"
          }
        },
        "9d275b977a574a16b9ef10d447b17c71": {
          "model_module": "@jupyter-widgets/controls",
          "model_name": "FloatProgressModel",
          "model_module_version": "1.5.0",
          "state": {
            "_view_name": "ProgressView",
            "style": "IPY_MODEL_a58a8d083f0e48ac82f5dc473c59e59f",
            "_dom_classes": [],
            "description": "",
            "_model_name": "FloatProgressModel",
            "bar_style": "success",
            "max": 28881,
            "_view_module": "@jupyter-widgets/controls",
            "_model_module_version": "1.5.0",
            "value": 28881,
            "_view_count": null,
            "_view_module_version": "1.5.0",
            "orientation": "horizontal",
            "min": 0,
            "description_tooltip": null,
            "_model_module": "@jupyter-widgets/controls",
            "layout": "IPY_MODEL_8ab9d85d9cd942b8a0141eeff1752d84"
          }
        },
        "3c87481a14dd405fb85d26699f1e6606": {
          "model_module": "@jupyter-widgets/controls",
          "model_name": "HTMLModel",
          "model_module_version": "1.5.0",
          "state": {
            "_view_name": "HTMLView",
            "style": "IPY_MODEL_2ccbed598b5a413580e83bc8c6bf51b1",
            "_dom_classes": [],
            "description": "",
            "_model_name": "HTMLModel",
            "placeholder": "​",
            "_view_module": "@jupyter-widgets/controls",
            "_model_module_version": "1.5.0",
            "value": " 29696/? [00:00&lt;00:00, 8842.49it/s]",
            "_view_count": null,
            "_view_module_version": "1.5.0",
            "description_tooltip": null,
            "_model_module": "@jupyter-widgets/controls",
            "layout": "IPY_MODEL_0360e3616c2541ac811a8a73a50dd6a4"
          }
        },
        "2ac30f4ab1c449649695edd7139e5de8": {
          "model_module": "@jupyter-widgets/controls",
          "model_name": "DescriptionStyleModel",
          "model_module_version": "1.5.0",
          "state": {
            "_view_name": "StyleView",
            "_model_name": "DescriptionStyleModel",
            "description_width": "",
            "_view_module": "@jupyter-widgets/base",
            "_model_module_version": "1.5.0",
            "_view_count": null,
            "_view_module_version": "1.2.0",
            "_model_module": "@jupyter-widgets/controls"
          }
        },
        "e378f14244fe4297a52a4ecb539cf631": {
          "model_module": "@jupyter-widgets/base",
          "model_name": "LayoutModel",
          "model_module_version": "1.2.0",
          "state": {
            "_view_name": "LayoutView",
            "grid_template_rows": null,
            "right": null,
            "justify_content": null,
            "_view_module": "@jupyter-widgets/base",
            "overflow": null,
            "_model_module_version": "1.2.0",
            "_view_count": null,
            "flex_flow": null,
            "width": null,
            "min_width": null,
            "border": null,
            "align_items": null,
            "bottom": null,
            "_model_module": "@jupyter-widgets/base",
            "top": null,
            "grid_column": null,
            "overflow_y": null,
            "overflow_x": null,
            "grid_auto_flow": null,
            "grid_area": null,
            "grid_template_columns": null,
            "flex": null,
            "_model_name": "LayoutModel",
            "justify_items": null,
            "grid_row": null,
            "max_height": null,
            "align_content": null,
            "visibility": null,
            "align_self": null,
            "height": null,
            "min_height": null,
            "padding": null,
            "grid_auto_rows": null,
            "grid_gap": null,
            "max_width": null,
            "order": null,
            "_view_module_version": "1.2.0",
            "grid_template_areas": null,
            "object_position": null,
            "object_fit": null,
            "grid_auto_columns": null,
            "margin": null,
            "display": null,
            "left": null
          }
        },
        "a58a8d083f0e48ac82f5dc473c59e59f": {
          "model_module": "@jupyter-widgets/controls",
          "model_name": "ProgressStyleModel",
          "model_module_version": "1.5.0",
          "state": {
            "_view_name": "StyleView",
            "_model_name": "ProgressStyleModel",
            "description_width": "",
            "_view_module": "@jupyter-widgets/base",
            "_model_module_version": "1.5.0",
            "_view_count": null,
            "_view_module_version": "1.2.0",
            "bar_color": null,
            "_model_module": "@jupyter-widgets/controls"
          }
        },
        "8ab9d85d9cd942b8a0141eeff1752d84": {
          "model_module": "@jupyter-widgets/base",
          "model_name": "LayoutModel",
          "model_module_version": "1.2.0",
          "state": {
            "_view_name": "LayoutView",
            "grid_template_rows": null,
            "right": null,
            "justify_content": null,
            "_view_module": "@jupyter-widgets/base",
            "overflow": null,
            "_model_module_version": "1.2.0",
            "_view_count": null,
            "flex_flow": null,
            "width": null,
            "min_width": null,
            "border": null,
            "align_items": null,
            "bottom": null,
            "_model_module": "@jupyter-widgets/base",
            "top": null,
            "grid_column": null,
            "overflow_y": null,
            "overflow_x": null,
            "grid_auto_flow": null,
            "grid_area": null,
            "grid_template_columns": null,
            "flex": null,
            "_model_name": "LayoutModel",
            "justify_items": null,
            "grid_row": null,
            "max_height": null,
            "align_content": null,
            "visibility": null,
            "align_self": null,
            "height": null,
            "min_height": null,
            "padding": null,
            "grid_auto_rows": null,
            "grid_gap": null,
            "max_width": null,
            "order": null,
            "_view_module_version": "1.2.0",
            "grid_template_areas": null,
            "object_position": null,
            "object_fit": null,
            "grid_auto_columns": null,
            "margin": null,
            "display": null,
            "left": null
          }
        },
        "2ccbed598b5a413580e83bc8c6bf51b1": {
          "model_module": "@jupyter-widgets/controls",
          "model_name": "DescriptionStyleModel",
          "model_module_version": "1.5.0",
          "state": {
            "_view_name": "StyleView",
            "_model_name": "DescriptionStyleModel",
            "description_width": "",
            "_view_module": "@jupyter-widgets/base",
            "_model_module_version": "1.5.0",
            "_view_count": null,
            "_view_module_version": "1.2.0",
            "_model_module": "@jupyter-widgets/controls"
          }
        },
        "0360e3616c2541ac811a8a73a50dd6a4": {
          "model_module": "@jupyter-widgets/base",
          "model_name": "LayoutModel",
          "model_module_version": "1.2.0",
          "state": {
            "_view_name": "LayoutView",
            "grid_template_rows": null,
            "right": null,
            "justify_content": null,
            "_view_module": "@jupyter-widgets/base",
            "overflow": null,
            "_model_module_version": "1.2.0",
            "_view_count": null,
            "flex_flow": null,
            "width": null,
            "min_width": null,
            "border": null,
            "align_items": null,
            "bottom": null,
            "_model_module": "@jupyter-widgets/base",
            "top": null,
            "grid_column": null,
            "overflow_y": null,
            "overflow_x": null,
            "grid_auto_flow": null,
            "grid_area": null,
            "grid_template_columns": null,
            "flex": null,
            "_model_name": "LayoutModel",
            "justify_items": null,
            "grid_row": null,
            "max_height": null,
            "align_content": null,
            "visibility": null,
            "align_self": null,
            "height": null,
            "min_height": null,
            "padding": null,
            "grid_auto_rows": null,
            "grid_gap": null,
            "max_width": null,
            "order": null,
            "_view_module_version": "1.2.0",
            "grid_template_areas": null,
            "object_position": null,
            "object_fit": null,
            "grid_auto_columns": null,
            "margin": null,
            "display": null,
            "left": null
          }
        },
        "58e8351b646e4443a633dc889356fe99": {
          "model_module": "@jupyter-widgets/controls",
          "model_name": "HBoxModel",
          "model_module_version": "1.5.0",
          "state": {
            "_view_name": "HBoxView",
            "_dom_classes": [],
            "_model_name": "HBoxModel",
            "_view_module": "@jupyter-widgets/controls",
            "_model_module_version": "1.5.0",
            "_view_count": null,
            "_view_module_version": "1.5.0",
            "box_style": "",
            "layout": "IPY_MODEL_7904c826b19549d190ac8e6358118f72",
            "_model_module": "@jupyter-widgets/controls",
            "children": [
              "IPY_MODEL_57a35c7ce6f54a26a7331926fe64516c",
              "IPY_MODEL_05469e45bc964b2ba796bde63faeb864",
              "IPY_MODEL_229b63556ec0435596a6be157ce56dc1"
            ]
          }
        },
        "7904c826b19549d190ac8e6358118f72": {
          "model_module": "@jupyter-widgets/base",
          "model_name": "LayoutModel",
          "model_module_version": "1.2.0",
          "state": {
            "_view_name": "LayoutView",
            "grid_template_rows": null,
            "right": null,
            "justify_content": null,
            "_view_module": "@jupyter-widgets/base",
            "overflow": null,
            "_model_module_version": "1.2.0",
            "_view_count": null,
            "flex_flow": null,
            "width": null,
            "min_width": null,
            "border": null,
            "align_items": null,
            "bottom": null,
            "_model_module": "@jupyter-widgets/base",
            "top": null,
            "grid_column": null,
            "overflow_y": null,
            "overflow_x": null,
            "grid_auto_flow": null,
            "grid_area": null,
            "grid_template_columns": null,
            "flex": null,
            "_model_name": "LayoutModel",
            "justify_items": null,
            "grid_row": null,
            "max_height": null,
            "align_content": null,
            "visibility": null,
            "align_self": null,
            "height": null,
            "min_height": null,
            "padding": null,
            "grid_auto_rows": null,
            "grid_gap": null,
            "max_width": null,
            "order": null,
            "_view_module_version": "1.2.0",
            "grid_template_areas": null,
            "object_position": null,
            "object_fit": null,
            "grid_auto_columns": null,
            "margin": null,
            "display": null,
            "left": null
          }
        },
        "57a35c7ce6f54a26a7331926fe64516c": {
          "model_module": "@jupyter-widgets/controls",
          "model_name": "HTMLModel",
          "model_module_version": "1.5.0",
          "state": {
            "_view_name": "HTMLView",
            "style": "IPY_MODEL_3efe51ddde514aaa839eb649afdf23bb",
            "_dom_classes": [],
            "description": "",
            "_model_name": "HTMLModel",
            "placeholder": "​",
            "_view_module": "@jupyter-widgets/controls",
            "_model_module_version": "1.5.0",
            "value": "",
            "_view_count": null,
            "_view_module_version": "1.5.0",
            "description_tooltip": null,
            "_model_module": "@jupyter-widgets/controls",
            "layout": "IPY_MODEL_3f9b8bb9078447c68d1d5a691fcceae0"
          }
        },
        "05469e45bc964b2ba796bde63faeb864": {
          "model_module": "@jupyter-widgets/controls",
          "model_name": "FloatProgressModel",
          "model_module_version": "1.5.0",
          "state": {
            "_view_name": "ProgressView",
            "style": "IPY_MODEL_3f4744c8a4a749b4b934bd3718d2e0b0",
            "_dom_classes": [],
            "description": "",
            "_model_name": "FloatProgressModel",
            "bar_style": "success",
            "max": 1648877,
            "_view_module": "@jupyter-widgets/controls",
            "_model_module_version": "1.5.0",
            "value": 1648877,
            "_view_count": null,
            "_view_module_version": "1.5.0",
            "orientation": "horizontal",
            "min": 0,
            "description_tooltip": null,
            "_model_module": "@jupyter-widgets/controls",
            "layout": "IPY_MODEL_c6f7ae51bd524bed9f75f602a7cd4e39"
          }
        },
        "229b63556ec0435596a6be157ce56dc1": {
          "model_module": "@jupyter-widgets/controls",
          "model_name": "HTMLModel",
          "model_module_version": "1.5.0",
          "state": {
            "_view_name": "HTMLView",
            "style": "IPY_MODEL_a477a258f7604dfca33d68090eb77703",
            "_dom_classes": [],
            "description": "",
            "_model_name": "HTMLModel",
            "placeholder": "​",
            "_view_module": "@jupyter-widgets/controls",
            "_model_module_version": "1.5.0",
            "value": " 1649664/? [00:00&lt;00:00, 4588926.94it/s]",
            "_view_count": null,
            "_view_module_version": "1.5.0",
            "description_tooltip": null,
            "_model_module": "@jupyter-widgets/controls",
            "layout": "IPY_MODEL_76ac112b11c14ae38584885edda77d4b"
          }
        },
        "3efe51ddde514aaa839eb649afdf23bb": {
          "model_module": "@jupyter-widgets/controls",
          "model_name": "DescriptionStyleModel",
          "model_module_version": "1.5.0",
          "state": {
            "_view_name": "StyleView",
            "_model_name": "DescriptionStyleModel",
            "description_width": "",
            "_view_module": "@jupyter-widgets/base",
            "_model_module_version": "1.5.0",
            "_view_count": null,
            "_view_module_version": "1.2.0",
            "_model_module": "@jupyter-widgets/controls"
          }
        },
        "3f9b8bb9078447c68d1d5a691fcceae0": {
          "model_module": "@jupyter-widgets/base",
          "model_name": "LayoutModel",
          "model_module_version": "1.2.0",
          "state": {
            "_view_name": "LayoutView",
            "grid_template_rows": null,
            "right": null,
            "justify_content": null,
            "_view_module": "@jupyter-widgets/base",
            "overflow": null,
            "_model_module_version": "1.2.0",
            "_view_count": null,
            "flex_flow": null,
            "width": null,
            "min_width": null,
            "border": null,
            "align_items": null,
            "bottom": null,
            "_model_module": "@jupyter-widgets/base",
            "top": null,
            "grid_column": null,
            "overflow_y": null,
            "overflow_x": null,
            "grid_auto_flow": null,
            "grid_area": null,
            "grid_template_columns": null,
            "flex": null,
            "_model_name": "LayoutModel",
            "justify_items": null,
            "grid_row": null,
            "max_height": null,
            "align_content": null,
            "visibility": null,
            "align_self": null,
            "height": null,
            "min_height": null,
            "padding": null,
            "grid_auto_rows": null,
            "grid_gap": null,
            "max_width": null,
            "order": null,
            "_view_module_version": "1.2.0",
            "grid_template_areas": null,
            "object_position": null,
            "object_fit": null,
            "grid_auto_columns": null,
            "margin": null,
            "display": null,
            "left": null
          }
        },
        "3f4744c8a4a749b4b934bd3718d2e0b0": {
          "model_module": "@jupyter-widgets/controls",
          "model_name": "ProgressStyleModel",
          "model_module_version": "1.5.0",
          "state": {
            "_view_name": "StyleView",
            "_model_name": "ProgressStyleModel",
            "description_width": "",
            "_view_module": "@jupyter-widgets/base",
            "_model_module_version": "1.5.0",
            "_view_count": null,
            "_view_module_version": "1.2.0",
            "bar_color": null,
            "_model_module": "@jupyter-widgets/controls"
          }
        },
        "c6f7ae51bd524bed9f75f602a7cd4e39": {
          "model_module": "@jupyter-widgets/base",
          "model_name": "LayoutModel",
          "model_module_version": "1.2.0",
          "state": {
            "_view_name": "LayoutView",
            "grid_template_rows": null,
            "right": null,
            "justify_content": null,
            "_view_module": "@jupyter-widgets/base",
            "overflow": null,
            "_model_module_version": "1.2.0",
            "_view_count": null,
            "flex_flow": null,
            "width": null,
            "min_width": null,
            "border": null,
            "align_items": null,
            "bottom": null,
            "_model_module": "@jupyter-widgets/base",
            "top": null,
            "grid_column": null,
            "overflow_y": null,
            "overflow_x": null,
            "grid_auto_flow": null,
            "grid_area": null,
            "grid_template_columns": null,
            "flex": null,
            "_model_name": "LayoutModel",
            "justify_items": null,
            "grid_row": null,
            "max_height": null,
            "align_content": null,
            "visibility": null,
            "align_self": null,
            "height": null,
            "min_height": null,
            "padding": null,
            "grid_auto_rows": null,
            "grid_gap": null,
            "max_width": null,
            "order": null,
            "_view_module_version": "1.2.0",
            "grid_template_areas": null,
            "object_position": null,
            "object_fit": null,
            "grid_auto_columns": null,
            "margin": null,
            "display": null,
            "left": null
          }
        },
        "a477a258f7604dfca33d68090eb77703": {
          "model_module": "@jupyter-widgets/controls",
          "model_name": "DescriptionStyleModel",
          "model_module_version": "1.5.0",
          "state": {
            "_view_name": "StyleView",
            "_model_name": "DescriptionStyleModel",
            "description_width": "",
            "_view_module": "@jupyter-widgets/base",
            "_model_module_version": "1.5.0",
            "_view_count": null,
            "_view_module_version": "1.2.0",
            "_model_module": "@jupyter-widgets/controls"
          }
        },
        "76ac112b11c14ae38584885edda77d4b": {
          "model_module": "@jupyter-widgets/base",
          "model_name": "LayoutModel",
          "model_module_version": "1.2.0",
          "state": {
            "_view_name": "LayoutView",
            "grid_template_rows": null,
            "right": null,
            "justify_content": null,
            "_view_module": "@jupyter-widgets/base",
            "overflow": null,
            "_model_module_version": "1.2.0",
            "_view_count": null,
            "flex_flow": null,
            "width": null,
            "min_width": null,
            "border": null,
            "align_items": null,
            "bottom": null,
            "_model_module": "@jupyter-widgets/base",
            "top": null,
            "grid_column": null,
            "overflow_y": null,
            "overflow_x": null,
            "grid_auto_flow": null,
            "grid_area": null,
            "grid_template_columns": null,
            "flex": null,
            "_model_name": "LayoutModel",
            "justify_items": null,
            "grid_row": null,
            "max_height": null,
            "align_content": null,
            "visibility": null,
            "align_self": null,
            "height": null,
            "min_height": null,
            "padding": null,
            "grid_auto_rows": null,
            "grid_gap": null,
            "max_width": null,
            "order": null,
            "_view_module_version": "1.2.0",
            "grid_template_areas": null,
            "object_position": null,
            "object_fit": null,
            "grid_auto_columns": null,
            "margin": null,
            "display": null,
            "left": null
          }
        },
        "e0f7649474974e248d0c5f210083b552": {
          "model_module": "@jupyter-widgets/controls",
          "model_name": "HBoxModel",
          "model_module_version": "1.5.0",
          "state": {
            "_view_name": "HBoxView",
            "_dom_classes": [],
            "_model_name": "HBoxModel",
            "_view_module": "@jupyter-widgets/controls",
            "_model_module_version": "1.5.0",
            "_view_count": null,
            "_view_module_version": "1.5.0",
            "box_style": "",
            "layout": "IPY_MODEL_f178d61589f44421855d03675e466ddc",
            "_model_module": "@jupyter-widgets/controls",
            "children": [
              "IPY_MODEL_6e7e2313564e42189a635ac1ec9b205e",
              "IPY_MODEL_a7893667c0054e1e940cb49b9e2d0c4d",
              "IPY_MODEL_c7f768f7c02e475da080a7fb4cb77422"
            ]
          }
        },
        "f178d61589f44421855d03675e466ddc": {
          "model_module": "@jupyter-widgets/base",
          "model_name": "LayoutModel",
          "model_module_version": "1.2.0",
          "state": {
            "_view_name": "LayoutView",
            "grid_template_rows": null,
            "right": null,
            "justify_content": null,
            "_view_module": "@jupyter-widgets/base",
            "overflow": null,
            "_model_module_version": "1.2.0",
            "_view_count": null,
            "flex_flow": null,
            "width": null,
            "min_width": null,
            "border": null,
            "align_items": null,
            "bottom": null,
            "_model_module": "@jupyter-widgets/base",
            "top": null,
            "grid_column": null,
            "overflow_y": null,
            "overflow_x": null,
            "grid_auto_flow": null,
            "grid_area": null,
            "grid_template_columns": null,
            "flex": null,
            "_model_name": "LayoutModel",
            "justify_items": null,
            "grid_row": null,
            "max_height": null,
            "align_content": null,
            "visibility": null,
            "align_self": null,
            "height": null,
            "min_height": null,
            "padding": null,
            "grid_auto_rows": null,
            "grid_gap": null,
            "max_width": null,
            "order": null,
            "_view_module_version": "1.2.0",
            "grid_template_areas": null,
            "object_position": null,
            "object_fit": null,
            "grid_auto_columns": null,
            "margin": null,
            "display": null,
            "left": null
          }
        },
        "6e7e2313564e42189a635ac1ec9b205e": {
          "model_module": "@jupyter-widgets/controls",
          "model_name": "HTMLModel",
          "model_module_version": "1.5.0",
          "state": {
            "_view_name": "HTMLView",
            "style": "IPY_MODEL_d110512e88ce4b9c9b0af04c66f30a30",
            "_dom_classes": [],
            "description": "",
            "_model_name": "HTMLModel",
            "placeholder": "​",
            "_view_module": "@jupyter-widgets/controls",
            "_model_module_version": "1.5.0",
            "value": "",
            "_view_count": null,
            "_view_module_version": "1.5.0",
            "description_tooltip": null,
            "_model_module": "@jupyter-widgets/controls",
            "layout": "IPY_MODEL_92b9f9f0409744538c830749712c05ca"
          }
        },
        "a7893667c0054e1e940cb49b9e2d0c4d": {
          "model_module": "@jupyter-widgets/controls",
          "model_name": "FloatProgressModel",
          "model_module_version": "1.5.0",
          "state": {
            "_view_name": "ProgressView",
            "style": "IPY_MODEL_60bc259e88924065939480a5df70f839",
            "_dom_classes": [],
            "description": "",
            "_model_name": "FloatProgressModel",
            "bar_style": "success",
            "max": 4542,
            "_view_module": "@jupyter-widgets/controls",
            "_model_module_version": "1.5.0",
            "value": 4542,
            "_view_count": null,
            "_view_module_version": "1.5.0",
            "orientation": "horizontal",
            "min": 0,
            "description_tooltip": null,
            "_model_module": "@jupyter-widgets/controls",
            "layout": "IPY_MODEL_a178994b3fbf450cb53bdb5b54ef08eb"
          }
        },
        "c7f768f7c02e475da080a7fb4cb77422": {
          "model_module": "@jupyter-widgets/controls",
          "model_name": "HTMLModel",
          "model_module_version": "1.5.0",
          "state": {
            "_view_name": "HTMLView",
            "style": "IPY_MODEL_54c8d808bf5f486aa730f3158c37f1c5",
            "_dom_classes": [],
            "description": "",
            "_model_name": "HTMLModel",
            "placeholder": "​",
            "_view_module": "@jupyter-widgets/controls",
            "_model_module_version": "1.5.0",
            "value": " 5120/? [00:00&lt;00:00, 69252.44it/s]",
            "_view_count": null,
            "_view_module_version": "1.5.0",
            "description_tooltip": null,
            "_model_module": "@jupyter-widgets/controls",
            "layout": "IPY_MODEL_fc94d698c4b046b898b392d26101314f"
          }
        },
        "d110512e88ce4b9c9b0af04c66f30a30": {
          "model_module": "@jupyter-widgets/controls",
          "model_name": "DescriptionStyleModel",
          "model_module_version": "1.5.0",
          "state": {
            "_view_name": "StyleView",
            "_model_name": "DescriptionStyleModel",
            "description_width": "",
            "_view_module": "@jupyter-widgets/base",
            "_model_module_version": "1.5.0",
            "_view_count": null,
            "_view_module_version": "1.2.0",
            "_model_module": "@jupyter-widgets/controls"
          }
        },
        "92b9f9f0409744538c830749712c05ca": {
          "model_module": "@jupyter-widgets/base",
          "model_name": "LayoutModel",
          "model_module_version": "1.2.0",
          "state": {
            "_view_name": "LayoutView",
            "grid_template_rows": null,
            "right": null,
            "justify_content": null,
            "_view_module": "@jupyter-widgets/base",
            "overflow": null,
            "_model_module_version": "1.2.0",
            "_view_count": null,
            "flex_flow": null,
            "width": null,
            "min_width": null,
            "border": null,
            "align_items": null,
            "bottom": null,
            "_model_module": "@jupyter-widgets/base",
            "top": null,
            "grid_column": null,
            "overflow_y": null,
            "overflow_x": null,
            "grid_auto_flow": null,
            "grid_area": null,
            "grid_template_columns": null,
            "flex": null,
            "_model_name": "LayoutModel",
            "justify_items": null,
            "grid_row": null,
            "max_height": null,
            "align_content": null,
            "visibility": null,
            "align_self": null,
            "height": null,
            "min_height": null,
            "padding": null,
            "grid_auto_rows": null,
            "grid_gap": null,
            "max_width": null,
            "order": null,
            "_view_module_version": "1.2.0",
            "grid_template_areas": null,
            "object_position": null,
            "object_fit": null,
            "grid_auto_columns": null,
            "margin": null,
            "display": null,
            "left": null
          }
        },
        "60bc259e88924065939480a5df70f839": {
          "model_module": "@jupyter-widgets/controls",
          "model_name": "ProgressStyleModel",
          "model_module_version": "1.5.0",
          "state": {
            "_view_name": "StyleView",
            "_model_name": "ProgressStyleModel",
            "description_width": "",
            "_view_module": "@jupyter-widgets/base",
            "_model_module_version": "1.5.0",
            "_view_count": null,
            "_view_module_version": "1.2.0",
            "bar_color": null,
            "_model_module": "@jupyter-widgets/controls"
          }
        },
        "a178994b3fbf450cb53bdb5b54ef08eb": {
          "model_module": "@jupyter-widgets/base",
          "model_name": "LayoutModel",
          "model_module_version": "1.2.0",
          "state": {
            "_view_name": "LayoutView",
            "grid_template_rows": null,
            "right": null,
            "justify_content": null,
            "_view_module": "@jupyter-widgets/base",
            "overflow": null,
            "_model_module_version": "1.2.0",
            "_view_count": null,
            "flex_flow": null,
            "width": null,
            "min_width": null,
            "border": null,
            "align_items": null,
            "bottom": null,
            "_model_module": "@jupyter-widgets/base",
            "top": null,
            "grid_column": null,
            "overflow_y": null,
            "overflow_x": null,
            "grid_auto_flow": null,
            "grid_area": null,
            "grid_template_columns": null,
            "flex": null,
            "_model_name": "LayoutModel",
            "justify_items": null,
            "grid_row": null,
            "max_height": null,
            "align_content": null,
            "visibility": null,
            "align_self": null,
            "height": null,
            "min_height": null,
            "padding": null,
            "grid_auto_rows": null,
            "grid_gap": null,
            "max_width": null,
            "order": null,
            "_view_module_version": "1.2.0",
            "grid_template_areas": null,
            "object_position": null,
            "object_fit": null,
            "grid_auto_columns": null,
            "margin": null,
            "display": null,
            "left": null
          }
        },
        "54c8d808bf5f486aa730f3158c37f1c5": {
          "model_module": "@jupyter-widgets/controls",
          "model_name": "DescriptionStyleModel",
          "model_module_version": "1.5.0",
          "state": {
            "_view_name": "StyleView",
            "_model_name": "DescriptionStyleModel",
            "description_width": "",
            "_view_module": "@jupyter-widgets/base",
            "_model_module_version": "1.5.0",
            "_view_count": null,
            "_view_module_version": "1.2.0",
            "_model_module": "@jupyter-widgets/controls"
          }
        },
        "fc94d698c4b046b898b392d26101314f": {
          "model_module": "@jupyter-widgets/base",
          "model_name": "LayoutModel",
          "model_module_version": "1.2.0",
          "state": {
            "_view_name": "LayoutView",
            "grid_template_rows": null,
            "right": null,
            "justify_content": null,
            "_view_module": "@jupyter-widgets/base",
            "overflow": null,
            "_model_module_version": "1.2.0",
            "_view_count": null,
            "flex_flow": null,
            "width": null,
            "min_width": null,
            "border": null,
            "align_items": null,
            "bottom": null,
            "_model_module": "@jupyter-widgets/base",
            "top": null,
            "grid_column": null,
            "overflow_y": null,
            "overflow_x": null,
            "grid_auto_flow": null,
            "grid_area": null,
            "grid_template_columns": null,
            "flex": null,
            "_model_name": "LayoutModel",
            "justify_items": null,
            "grid_row": null,
            "max_height": null,
            "align_content": null,
            "visibility": null,
            "align_self": null,
            "height": null,
            "min_height": null,
            "padding": null,
            "grid_auto_rows": null,
            "grid_gap": null,
            "max_width": null,
            "order": null,
            "_view_module_version": "1.2.0",
            "grid_template_areas": null,
            "object_position": null,
            "object_fit": null,
            "grid_auto_columns": null,
            "margin": null,
            "display": null,
            "left": null
          }
        }
      }
    }
  },
  "nbformat": 4,
  "nbformat_minor": 0
}